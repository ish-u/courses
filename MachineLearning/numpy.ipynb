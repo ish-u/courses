{
 "cells": [
  {
   "cell_type": "code",
   "execution_count": 1,
   "metadata": {},
   "outputs": [],
   "source": [
    "import numpy as np"
   ]
  },
  {
   "cell_type": "code",
   "execution_count": 2,
   "metadata": {},
   "outputs": [
    {
     "name": "stdout",
     "output_type": "stream",
     "text": [
      "<module 'numpy._version' from 'C:\\\\Users\\\\anmol\\\\AppData\\\\Local\\\\Programs\\\\Python\\\\Python310\\\\lib\\\\site-packages\\\\numpy\\\\_version.py'>\n"
     ]
    }
   ],
   "source": [
    "print(np._version)"
   ]
  },
  {
   "cell_type": "code",
   "execution_count": 6,
   "metadata": {},
   "outputs": [
    {
     "data": {
      "text/plain": [
       "array([1, 2, 3, 4, 5])"
      ]
     },
     "execution_count": 6,
     "metadata": {},
     "output_type": "execute_result"
    }
   ],
   "source": [
    "arr = np.array([1,2,3,4,5])\n",
    "arr"
   ]
  },
  {
   "cell_type": "code",
   "execution_count": 9,
   "metadata": {},
   "outputs": [
    {
     "name": "stdout",
     "output_type": "stream",
     "text": [
      "<class 'numpy.ndarray'>\n"
     ]
    }
   ],
   "source": [
    "# np.array is an ndarray object\n",
    "print(type(arr))"
   ]
  },
  {
   "cell_type": "code",
   "execution_count": 13,
   "metadata": {},
   "outputs": [],
   "source": [
    "# Dimension of Array\n",
    "oneD = np.array(1)\n",
    "twoD = np.array([[1,2,3,4,5],[5,4,3,2,1]])\n",
    "threeD = np.array([[[1,2,3,4,5],[5,4,3,2,1]],[[1,2,3,4,5],[5,4,3,2,1]]])"
   ]
  },
  {
   "cell_type": "code",
   "execution_count": 17,
   "metadata": {},
   "outputs": [
    {
     "name": "stdout",
     "output_type": "stream",
     "text": [
      "0\n",
      "2\n",
      "3\n"
     ]
    }
   ],
   "source": [
    "print(oneD.ndim)\n",
    "print(twoD.ndim)\n",
    "print(threeD.ndim)"
   ]
  },
  {
   "cell_type": "code",
   "execution_count": 23,
   "metadata": {},
   "outputs": [
    {
     "data": {
      "text/plain": [
       "array([[[[[[[ 0,  1,  2,  3,  4,  5,  6,  7,  8,  9, 10, 11, 12, 13,\n",
       "             14, 15, 16, 17, 18, 19, 20, 21, 22, 23, 24, 25, 26, 27,\n",
       "             28, 29, 30, 31, 32, 33, 34, 35, 36, 37, 38, 39, 40, 41,\n",
       "             42, 43, 44, 45, 46, 47, 48, 49, 50, 51, 52, 53, 54, 55,\n",
       "             56, 57, 58, 59, 60, 61, 62, 63, 64, 65, 66, 67, 68, 69,\n",
       "             70, 71, 72, 73, 74, 75, 76, 77, 78, 79, 80, 81, 82, 83,\n",
       "             84, 85, 86, 87, 88, 89, 90, 91, 92, 93, 94, 95, 96, 97,\n",
       "             98, 99]]]]]]])"
      ]
     },
     "execution_count": 23,
     "metadata": {},
     "output_type": "execute_result"
    }
   ],
   "source": [
    "# creating higher dimension arrays\n",
    "arr = np.array([x for x in range(100)],ndmin=7)\n",
    "arr"
   ]
  },
  {
   "cell_type": "code",
   "execution_count": 24,
   "metadata": {},
   "outputs": [
    {
     "data": {
      "text/plain": [
       "7"
      ]
     },
     "execution_count": 24,
     "metadata": {},
     "output_type": "execute_result"
    }
   ],
   "source": [
    "arr.ndim"
   ]
  },
  {
   "cell_type": "code",
   "execution_count": 43,
   "metadata": {},
   "outputs": [],
   "source": [
    "# Indexing\n",
    "oneD = np.array([1,2,3,4,5])\n",
    "twoD = np.array([[1,2,3,4,5],[5,4,3,2,1]])\n",
    "threeD = np.array([[[1,2,3,4,5],[5,4,3,2,1]],[[1,2,3,4,5],[5,4,3,2,1]]])"
   ]
  },
  {
   "cell_type": "code",
   "execution_count": 44,
   "metadata": {},
   "outputs": [
    {
     "data": {
      "text/plain": [
       "array([1, 2, 3, 4, 5])"
      ]
     },
     "execution_count": 44,
     "metadata": {},
     "output_type": "execute_result"
    }
   ],
   "source": [
    "oneD"
   ]
  },
  {
   "cell_type": "code",
   "execution_count": 45,
   "metadata": {},
   "outputs": [
    {
     "data": {
      "text/plain": [
       "3"
      ]
     },
     "execution_count": 45,
     "metadata": {},
     "output_type": "execute_result"
    }
   ],
   "source": [
    "twoD[1,2]"
   ]
  },
  {
   "cell_type": "code",
   "execution_count": 46,
   "metadata": {},
   "outputs": [
    {
     "data": {
      "text/plain": [
       "4"
      ]
     },
     "execution_count": 46,
     "metadata": {},
     "output_type": "execute_result"
    }
   ],
   "source": [
    "threeD[0,0,-2]"
   ]
  },
  {
   "cell_type": "code",
   "execution_count": 47,
   "metadata": {},
   "outputs": [
    {
     "data": {
      "text/plain": [
       "array([[5, 4, 3, 2, 1]])"
      ]
     },
     "execution_count": 47,
     "metadata": {},
     "output_type": "execute_result"
    }
   ],
   "source": [
    "# Slicing\n",
    "twoD[1:5]"
   ]
  },
  {
   "cell_type": "code",
   "execution_count": 49,
   "metadata": {},
   "outputs": [
    {
     "data": {
      "text/plain": [
       "array([2, 3, 4, 5])"
      ]
     },
     "execution_count": 49,
     "metadata": {},
     "output_type": "execute_result"
    }
   ],
   "source": [
    "oneD[1:]"
   ]
  },
  {
   "cell_type": "code",
   "execution_count": 50,
   "metadata": {},
   "outputs": [
    {
     "data": {
      "text/plain": [
       "array([1, 2, 3])"
      ]
     },
     "execution_count": 50,
     "metadata": {},
     "output_type": "execute_result"
    }
   ],
   "source": [
    "oneD[:3]"
   ]
  },
  {
   "cell_type": "code",
   "execution_count": 52,
   "metadata": {},
   "outputs": [
    {
     "data": {
      "text/plain": [
       "array([3, 4])"
      ]
     },
     "execution_count": 52,
     "metadata": {},
     "output_type": "execute_result"
    }
   ],
   "source": [
    "oneD[-3:-1]"
   ]
  },
  {
   "cell_type": "code",
   "execution_count": 53,
   "metadata": {},
   "outputs": [
    {
     "data": {
      "text/plain": [
       "dtype('int32')"
      ]
     },
     "execution_count": 53,
     "metadata": {},
     "output_type": "execute_result"
    }
   ],
   "source": [
    "oneD.dtype"
   ]
  },
  {
   "cell_type": "code",
   "execution_count": 56,
   "metadata": {},
   "outputs": [
    {
     "data": {
      "text/plain": [
       "array([1., 2., 3., 4.], dtype=float32)"
      ]
     },
     "execution_count": 56,
     "metadata": {},
     "output_type": "execute_result"
    }
   ],
   "source": [
    "# Creating arrays with the defined types\n",
    "arr = np.array([1,2,3,4],dtype='f')\n",
    "arr"
   ]
  },
  {
   "cell_type": "code",
   "execution_count": 57,
   "metadata": {},
   "outputs": [
    {
     "data": {
      "text/plain": [
       "array([1, 2, 3, 4])"
      ]
     },
     "execution_count": 57,
     "metadata": {},
     "output_type": "execute_result"
    }
   ],
   "source": [
    "arr = np.array([1,2,3,4],dtype='i4')\n",
    "arr"
   ]
  },
  {
   "cell_type": "code",
   "execution_count": 58,
   "metadata": {},
   "outputs": [
    {
     "data": {
      "text/plain": [
       "array([1, 2, 3, 4], dtype=object)"
      ]
     },
     "execution_count": 58,
     "metadata": {},
     "output_type": "execute_result"
    }
   ],
   "source": [
    "arr = np.array([1,2,3,4],dtype='O')\n",
    "arr"
   ]
  },
  {
   "cell_type": "code",
   "execution_count": 59,
   "metadata": {},
   "outputs": [
    {
     "data": {
      "text/plain": [
       "array([1, 2, 3, 4], dtype=int32)"
      ]
     },
     "execution_count": 59,
     "metadata": {},
     "output_type": "execute_result"
    }
   ],
   "source": [
    "# Converting Data Types\n",
    "arr.astype('i')"
   ]
  },
  {
   "cell_type": "code",
   "execution_count": 60,
   "metadata": {},
   "outputs": [
    {
     "data": {
      "text/plain": [
       "array([1, 2, 3, 4], dtype=object)"
      ]
     },
     "execution_count": 60,
     "metadata": {},
     "output_type": "execute_result"
    }
   ],
   "source": [
    "arr.astype('O')"
   ]
  },
  {
   "cell_type": "code",
   "execution_count": 62,
   "metadata": {},
   "outputs": [
    {
     "data": {
      "text/plain": [
       "array([ True,  True,  True,  True])"
      ]
     },
     "execution_count": 62,
     "metadata": {},
     "output_type": "execute_result"
    }
   ],
   "source": [
    "arr.astype('bool')"
   ]
  },
  {
   "cell_type": "code",
   "execution_count": 63,
   "metadata": {},
   "outputs": [
    {
     "name": "stdout",
     "output_type": "stream",
     "text": [
      "None\n",
      "[1 2 3 4 5]\n"
     ]
    }
   ],
   "source": [
    "arr = np.array([1, 2, 3, 4, 5])\n",
    "\n",
    "x = arr.copy()\n",
    "y = arr.view()\n",
    "\n",
    "print(x.base)\n",
    "print(y.base)"
   ]
  },
  {
   "cell_type": "code",
   "execution_count": 64,
   "metadata": {},
   "outputs": [
    {
     "data": {
      "text/plain": [
       "(5,)"
      ]
     },
     "execution_count": 64,
     "metadata": {},
     "output_type": "execute_result"
    }
   ],
   "source": [
    "# Shape of an Array\n",
    "oneD.shape"
   ]
  },
  {
   "cell_type": "code",
   "execution_count": 65,
   "metadata": {},
   "outputs": [
    {
     "data": {
      "text/plain": [
       "(2, 5)"
      ]
     },
     "execution_count": 65,
     "metadata": {},
     "output_type": "execute_result"
    }
   ],
   "source": [
    "twoD.shape"
   ]
  },
  {
   "cell_type": "code",
   "execution_count": 66,
   "metadata": {},
   "outputs": [
    {
     "data": {
      "text/plain": [
       "(2, 2, 5)"
      ]
     },
     "execution_count": 66,
     "metadata": {},
     "output_type": "execute_result"
    }
   ],
   "source": [
    "threeD.shape"
   ]
  },
  {
   "cell_type": "code",
   "execution_count": 67,
   "metadata": {},
   "outputs": [
    {
     "data": {
      "text/plain": [
       "array([ 0,  1,  2,  3,  4,  5,  6,  7,  8,  9, 10, 11, 12, 13, 14, 15, 16,\n",
       "       17, 18, 19])"
      ]
     },
     "execution_count": 67,
     "metadata": {},
     "output_type": "execute_result"
    }
   ],
   "source": [
    "# Reshaping Arrays\n",
    "arr = np.array([x for x in range(20)])\n",
    "arr"
   ]
  },
  {
   "cell_type": "code",
   "execution_count": 69,
   "metadata": {},
   "outputs": [
    {
     "data": {
      "text/plain": [
       "array([[ 0,  1,  2,  3,  4,  5,  6,  7,  8,  9],\n",
       "       [10, 11, 12, 13, 14, 15, 16, 17, 18, 19]])"
      ]
     },
     "execution_count": 69,
     "metadata": {},
     "output_type": "execute_result"
    }
   ],
   "source": [
    "arr.reshape(2,10)"
   ]
  },
  {
   "cell_type": "code",
   "execution_count": 70,
   "metadata": {},
   "outputs": [
    {
     "data": {
      "text/plain": [
       "array([[ 0,  1],\n",
       "       [ 2,  3],\n",
       "       [ 4,  5],\n",
       "       [ 6,  7],\n",
       "       [ 8,  9],\n",
       "       [10, 11],\n",
       "       [12, 13],\n",
       "       [14, 15],\n",
       "       [16, 17],\n",
       "       [18, 19]])"
      ]
     },
     "execution_count": 70,
     "metadata": {},
     "output_type": "execute_result"
    }
   ],
   "source": [
    "arr.reshape(10,2)"
   ]
  },
  {
   "cell_type": "code",
   "execution_count": 71,
   "metadata": {},
   "outputs": [
    {
     "data": {
      "text/plain": [
       "array([[[ 0,  1],\n",
       "        [ 2,  3],\n",
       "        [ 4,  5],\n",
       "        [ 6,  7],\n",
       "        [ 8,  9]],\n",
       "\n",
       "       [[10, 11],\n",
       "        [12, 13],\n",
       "        [14, 15],\n",
       "        [16, 17],\n",
       "        [18, 19]]])"
      ]
     },
     "execution_count": 71,
     "metadata": {},
     "output_type": "execute_result"
    }
   ],
   "source": [
    "arr.reshape(2,5,2)"
   ]
  },
  {
   "cell_type": "code",
   "execution_count": 72,
   "metadata": {},
   "outputs": [
    {
     "data": {
      "text/plain": [
       "array([[[ 0,  1,  2,  3]],\n",
       "\n",
       "       [[ 4,  5,  6,  7]],\n",
       "\n",
       "       [[ 8,  9, 10, 11]],\n",
       "\n",
       "       [[12, 13, 14, 15]],\n",
       "\n",
       "       [[16, 17, 18, 19]]])"
      ]
     },
     "execution_count": 72,
     "metadata": {},
     "output_type": "execute_result"
    }
   ],
   "source": [
    "arr.reshape(5,1,4)"
   ]
  },
  {
   "cell_type": "code",
   "execution_count": 73,
   "metadata": {},
   "outputs": [
    {
     "data": {
      "text/plain": [
       "array([[ 0,  1,  2,  3,  4],\n",
       "       [ 5,  6,  7,  8,  9],\n",
       "       [10, 11, 12, 13, 14],\n",
       "       [15, 16, 17, 18, 19]])"
      ]
     },
     "execution_count": 73,
     "metadata": {},
     "output_type": "execute_result"
    }
   ],
   "source": [
    "arr.reshape(4,5)"
   ]
  },
  {
   "cell_type": "code",
   "execution_count": 74,
   "metadata": {},
   "outputs": [
    {
     "data": {
      "text/plain": [
       "array([ 0,  1,  2,  3,  4,  5,  6,  7,  8,  9, 10, 11, 12, 13, 14, 15, 16,\n",
       "       17, 18, 19])"
      ]
     },
     "execution_count": 74,
     "metadata": {},
     "output_type": "execute_result"
    }
   ],
   "source": [
    "arr.reshape(4,5).base"
   ]
  },
  {
   "cell_type": "code",
   "execution_count": 75,
   "metadata": {},
   "outputs": [],
   "source": [
    "# Reshaping an array returns a \"view\" of the Array not the copy"
   ]
  },
  {
   "cell_type": "code",
   "execution_count": 76,
   "metadata": {},
   "outputs": [
    {
     "data": {
      "text/plain": [
       "array([[[ 0,  1,  2,  3,  4],\n",
       "        [ 5,  6,  7,  8,  9]],\n",
       "\n",
       "       [[10, 11, 12, 13, 14],\n",
       "        [15, 16, 17, 18, 19]]])"
      ]
     },
     "execution_count": 76,
     "metadata": {},
     "output_type": "execute_result"
    }
   ],
   "source": [
    "# Unkown dimesions\n",
    "arr.reshape(2,2,-1)"
   ]
  },
  {
   "cell_type": "code",
   "execution_count": 77,
   "metadata": {},
   "outputs": [
    {
     "data": {
      "text/plain": [
       "array([1, 2, 3, 4, 5, 6])"
      ]
     },
     "execution_count": 77,
     "metadata": {},
     "output_type": "execute_result"
    }
   ],
   "source": [
    "# Faltten an array\n",
    "arr = np.array([[1, 2, 3], [4, 5, 6]])\n",
    "arr.reshape(-1)"
   ]
  },
  {
   "cell_type": "code",
   "execution_count": 78,
   "metadata": {},
   "outputs": [
    {
     "data": {
      "text/plain": [
       "array([1, 2, 3, 4, 5, 6])"
      ]
     },
     "execution_count": 78,
     "metadata": {},
     "output_type": "execute_result"
    }
   ],
   "source": [
    "arr.flatten()"
   ]
  },
  {
   "cell_type": "code",
   "execution_count": 79,
   "metadata": {},
   "outputs": [
    {
     "data": {
      "text/plain": [
       "array([1, 2, 3, 4, 5, 6])"
      ]
     },
     "execution_count": 79,
     "metadata": {},
     "output_type": "execute_result"
    }
   ],
   "source": [
    "arr.ravel()"
   ]
  },
  {
   "cell_type": "code",
   "execution_count": 82,
   "metadata": {},
   "outputs": [
    {
     "name": "stdout",
     "output_type": "stream",
     "text": [
      "1\n",
      "2\n",
      "3\n",
      "4\n",
      "5\n",
      "6\n",
      "7\n",
      "8\n"
     ]
    }
   ],
   "source": [
    "# Iterating an Array\n",
    "arr = np.array([[[1, 2], [3, 4]], [[5, 6], [7, 8]]])\n",
    "\n",
    "for x in np.nditer(arr):\n",
    "  print(x)"
   ]
  },
  {
   "cell_type": "code",
   "execution_count": 83,
   "metadata": {},
   "outputs": [
    {
     "name": "stdout",
     "output_type": "stream",
     "text": [
      "b'1'\n",
      "b'2'\n",
      "b'3'\n"
     ]
    }
   ],
   "source": [
    "# Iterating with different Data Types\n",
    "import numpy as np\n",
    "\n",
    "arr = np.array([1, 2, 3])\n",
    "\n",
    "for x in np.nditer(arr, flags=['buffered'], op_dtypes=['S']):\n",
    "  print(x)"
   ]
  },
  {
   "cell_type": "code",
   "execution_count": 85,
   "metadata": {},
   "outputs": [
    {
     "name": "stdout",
     "output_type": "stream",
     "text": [
      "1\n",
      "3\n",
      "5\n",
      "7\n"
     ]
    }
   ],
   "source": [
    "# Iterating with different Step Size\n",
    "import numpy as np\n",
    "\n",
    "arr = np.array([[1, 2, 3, 4], [5, 6, 7, 8]])\n",
    "\n",
    "# Printing all the elements of the ndarray with step size = 2\n",
    "for x in np.nditer(arr[:, ::2]):\n",
    "  print(x)"
   ]
  },
  {
   "cell_type": "code",
   "execution_count": 86,
   "metadata": {},
   "outputs": [
    {
     "name": "stdout",
     "output_type": "stream",
     "text": [
      "(0,) 1\n",
      "(1,) 2\n",
      "(2,) 3\n"
     ]
    }
   ],
   "source": [
    "# Enumerating\n",
    "arr = np.array([1, 2, 3])\n",
    "\n",
    "for idx, x in np.ndenumerate(arr):\n",
    "  print(idx, x)"
   ]
  },
  {
   "cell_type": "code",
   "execution_count": 87,
   "metadata": {},
   "outputs": [
    {
     "name": "stdout",
     "output_type": "stream",
     "text": [
      "(0, 0) 1\n",
      "(0, 1) 2\n",
      "(0, 2) 3\n",
      "(0, 3) 4\n",
      "(1, 0) 5\n",
      "(1, 1) 6\n",
      "(1, 2) 7\n",
      "(1, 3) 8\n"
     ]
    }
   ],
   "source": [
    "\n",
    "arr = np.array([[1, 2, 3, 4], [5, 6, 7, 8]])\n",
    "\n",
    "for idx, x in np.ndenumerate(arr):\n",
    "  print(idx, x)"
   ]
  },
  {
   "cell_type": "code",
   "execution_count": 88,
   "metadata": {},
   "outputs": [
    {
     "data": {
      "text/plain": [
       "array([1, 2, 3, 4, 5, 6])"
      ]
     },
     "execution_count": 88,
     "metadata": {},
     "output_type": "execute_result"
    }
   ],
   "source": [
    "# joining\n",
    "# To perform a join we pass the array with the axis we want them to join\n",
    "arr1 = np.array([1, 2, 3])\n",
    "arr2 = np.array([4, 5, 6])\n",
    "arr = np.concatenate((arr1, arr2))\n",
    "arr"
   ]
  },
  {
   "cell_type": "code",
   "execution_count": 93,
   "metadata": {},
   "outputs": [
    {
     "data": {
      "text/plain": [
       "array([[1, 2, 3, 4, 5, 6],\n",
       "       [1, 2, 3, 4, 5, 6]])"
      ]
     },
     "execution_count": 93,
     "metadata": {},
     "output_type": "execute_result"
    }
   ],
   "source": [
    "arr1 = np.array([[1, 2, 3],[1, 2, 3]])\n",
    "arr2 = np.array([[4, 5, 6],[4, 5, 6]])\n",
    "arr = np.concatenate((arr1, arr2),axis=1)\n",
    "arr"
   ]
  },
  {
   "cell_type": "code",
   "execution_count": 94,
   "metadata": {},
   "outputs": [
    {
     "data": {
      "text/plain": [
       "array([[1, 2, 3],\n",
       "       [1, 2, 3],\n",
       "       [4, 5, 6],\n",
       "       [4, 5, 6]])"
      ]
     },
     "execution_count": 94,
     "metadata": {},
     "output_type": "execute_result"
    }
   ],
   "source": [
    "arr = np.concatenate((arr1, arr2),axis=0)\n",
    "arr"
   ]
  },
  {
   "cell_type": "code",
   "execution_count": 99,
   "metadata": {},
   "outputs": [
    {
     "data": {
      "text/plain": [
       "array([[1, 4],\n",
       "       [2, 5],\n",
       "       [3, 6]])"
      ]
     },
     "execution_count": 99,
     "metadata": {},
     "output_type": "execute_result"
    }
   ],
   "source": [
    "# Stacking - Same as join but done on a different axis\n",
    "arr1 = np.array([1, 2, 3])\n",
    "arr2 = np.array([4, 5, 6])\n",
    "arr = np.stack((arr1, arr2), axis=1)\n",
    "arr"
   ]
  },
  {
   "cell_type": "code",
   "execution_count": 102,
   "metadata": {},
   "outputs": [
    {
     "data": {
      "text/plain": [
       "array([[1, 2, 3],\n",
       "       [4, 5, 6]])"
      ]
     },
     "execution_count": 102,
     "metadata": {},
     "output_type": "execute_result"
    }
   ],
   "source": [
    "# Stack along rows\n",
    "arr = np.vstack((arr1,arr2))\n",
    "arr"
   ]
  },
  {
   "cell_type": "code",
   "execution_count": 103,
   "metadata": {},
   "outputs": [
    {
     "data": {
      "text/plain": [
       "array([1, 2, 3, 4, 5, 6])"
      ]
     },
     "execution_count": 103,
     "metadata": {},
     "output_type": "execute_result"
    }
   ],
   "source": [
    "# Stack along columns\n",
    "arr = np.hstack((arr1,arr2))\n",
    "arr"
   ]
  },
  {
   "cell_type": "code",
   "execution_count": 104,
   "metadata": {},
   "outputs": [
    {
     "data": {
      "text/plain": [
       "array([[[1, 4],\n",
       "        [2, 5],\n",
       "        [3, 6]]])"
      ]
     },
     "execution_count": 104,
     "metadata": {},
     "output_type": "execute_result"
    }
   ],
   "source": [
    "# Stack along Height/depth\n",
    "arr = np.dstack((arr1,arr2))\n",
    "arr\n"
   ]
  },
  {
   "cell_type": "code",
   "execution_count": 110,
   "metadata": {},
   "outputs": [
    {
     "data": {
      "text/plain": [
       "array([[ 0,  1,  2,  3,  4],\n",
       "       [ 5,  6,  7,  8,  9],\n",
       "       [10, 11, 12, 13, 14],\n",
       "       [15, 16, 17, 18, 19]])"
      ]
     },
     "execution_count": 110,
     "metadata": {},
     "output_type": "execute_result"
    }
   ],
   "source": [
    "## Splitting Arrays\n",
    "arr = np.arange(0,20)\n",
    "arr = arr.reshape(4,5)\n",
    "arr"
   ]
  },
  {
   "cell_type": "code",
   "execution_count": 112,
   "metadata": {},
   "outputs": [
    {
     "data": {
      "text/plain": [
       "[array([[0, 1, 2, 3, 4]]),\n",
       " array([[5, 6, 7, 8, 9]]),\n",
       " array([[10, 11, 12, 13, 14]]),\n",
       " array([[15, 16, 17, 18, 19]])]"
      ]
     },
     "execution_count": 112,
     "metadata": {},
     "output_type": "execute_result"
    }
   ],
   "source": [
    "np.array_split(arr,3)"
   ]
  },
  {
   "cell_type": "code",
   "execution_count": 113,
   "metadata": {},
   "outputs": [
    {
     "data": {
      "text/plain": [
       "[array([[0, 1, 2, 3, 4]]),\n",
       " array([[5, 6, 7, 8, 9]]),\n",
       " array([[10, 11, 12, 13, 14]]),\n",
       " array([[15, 16, 17, 18, 19]])]"
      ]
     },
     "execution_count": 113,
     "metadata": {},
     "output_type": "execute_result"
    }
   ],
   "source": [
    "np.array_split(arr,4)"
   ]
  },
  {
   "cell_type": "code",
   "execution_count": 114,
   "metadata": {},
   "outputs": [
    {
     "data": {
      "text/plain": [
       "[array([[0, 1, 2, 3, 4]]),\n",
       " array([[5, 6, 7, 8, 9]]),\n",
       " array([[10, 11, 12, 13, 14]]),\n",
       " array([[15, 16, 17, 18, 19]]),\n",
       " array([], shape=(0, 5), dtype=int32),\n",
       " array([], shape=(0, 5), dtype=int32)]"
      ]
     },
     "execution_count": 114,
     "metadata": {},
     "output_type": "execute_result"
    }
   ],
   "source": [
    "np.array_split(arr,6)"
   ]
  },
  {
   "cell_type": "code",
   "execution_count": 140,
   "metadata": {},
   "outputs": [
    {
     "data": {
      "text/plain": [
       "array([[ 0,  1,  2,  3,  4],\n",
       "       [ 5,  6,  7,  8,  9],\n",
       "       [10, 11, 12, 13, 14],\n",
       "       [15, 16, 17, 18, 19]])"
      ]
     },
     "execution_count": 140,
     "metadata": {},
     "output_type": "execute_result"
    }
   ],
   "source": [
    "# Searching\n",
    "arr = np.array(arr.reshape(4,5))\n",
    "arr"
   ]
  },
  {
   "cell_type": "code",
   "execution_count": 142,
   "metadata": {},
   "outputs": [
    {
     "data": {
      "text/plain": [
       "(array([0], dtype=int64), array([3], dtype=int64))"
      ]
     },
     "execution_count": 142,
     "metadata": {},
     "output_type": "execute_result"
    }
   ],
   "source": [
    "np.where(arr == 3)"
   ]
  },
  {
   "cell_type": "code",
   "execution_count": 144,
   "metadata": {},
   "outputs": [
    {
     "data": {
      "text/plain": [
       "(array([0, 2, 4, 6], dtype=int64),)"
      ]
     },
     "execution_count": 144,
     "metadata": {},
     "output_type": "execute_result"
    }
   ],
   "source": [
    "arr = np.array([1, 2, 3, 4, 5, 6, 7, 8])\n",
    "x = np.where(arr%2 == 1)\n",
    "x"
   ]
  },
  {
   "cell_type": "code",
   "execution_count": 146,
   "metadata": {},
   "outputs": [
    {
     "data": {
      "text/plain": [
       "0"
      ]
     },
     "execution_count": 146,
     "metadata": {},
     "output_type": "execute_result"
    }
   ],
   "source": [
    "np.searchsorted(arr,1)"
   ]
  },
  {
   "cell_type": "code",
   "execution_count": 149,
   "metadata": {},
   "outputs": [
    {
     "data": {
      "text/plain": [
       "array([   4,    6,    8,  155,    6,    3,   83,   21,    9,    1,    3,\n",
       "          1,   83,  583,    7,   16,    1,    6, 8933,    8,   63,    4,\n",
       "         64,    6,  463])"
      ]
     },
     "execution_count": 149,
     "metadata": {},
     "output_type": "execute_result"
    }
   ],
   "source": [
    "## Sorting\n",
    "arr = np.array([4,6,8,155,6,3,83,21,9,1,3,1,83,583,7,16,1,6,8933,8,63,4,64,6,463])\n",
    "arr"
   ]
  },
  {
   "cell_type": "code",
   "execution_count": 150,
   "metadata": {},
   "outputs": [
    {
     "data": {
      "text/plain": [
       "array([   1,    1,    1,    3,    3,    4,    4,    6,    6,    6,    6,\n",
       "          7,    8,    8,    9,   16,   21,   63,   64,   83,   83,  155,\n",
       "        463,  583, 8933])"
      ]
     },
     "execution_count": 150,
     "metadata": {},
     "output_type": "execute_result"
    }
   ],
   "source": [
    "np.sort(arr)"
   ]
  },
  {
   "cell_type": "code",
   "execution_count": 153,
   "metadata": {},
   "outputs": [],
   "source": [
    "## Filtering\n",
    "filterArray = arr >42"
   ]
  },
  {
   "cell_type": "code",
   "execution_count": 154,
   "metadata": {},
   "outputs": [
    {
     "data": {
      "text/plain": [
       "array([ 155,   83,   83,  583, 8933,   63,   64,  463])"
      ]
     },
     "execution_count": 154,
     "metadata": {},
     "output_type": "execute_result"
    }
   ],
   "source": [
    "arr[filterArray]"
   ]
  },
  {
   "cell_type": "markdown",
   "metadata": {},
   "source": [
    "### Random"
   ]
  },
  {
   "cell_type": "code",
   "execution_count": 157,
   "metadata": {},
   "outputs": [
    {
     "data": {
      "text/plain": [
       "63"
      ]
     },
     "execution_count": 157,
     "metadata": {},
     "output_type": "execute_result"
    }
   ],
   "source": [
    "x = np.random.randint(100)\n",
    "x"
   ]
  },
  {
   "cell_type": "code",
   "execution_count": 159,
   "metadata": {},
   "outputs": [
    {
     "data": {
      "text/plain": [
       "array([[20, 14, 57, 11, 45],\n",
       "       [88, 22, 73, 71, 44],\n",
       "       [28, 26, 44, 90, 47],\n",
       "       [79,  1, 42, 41, 21]])"
      ]
     },
     "execution_count": 159,
     "metadata": {},
     "output_type": "execute_result"
    }
   ],
   "source": [
    "randomArr = np.random.randint(1,100,size=(4,5))\n",
    "randomArr"
   ]
  },
  {
   "cell_type": "code",
   "execution_count": 160,
   "metadata": {},
   "outputs": [
    {
     "data": {
      "text/plain": [
       "array([25, 49, 37, 84, 73])"
      ]
     },
     "execution_count": 160,
     "metadata": {},
     "output_type": "execute_result"
    }
   ],
   "source": [
    "randomArr = np.random.randint(1,100,size=(5))\n",
    "randomArr"
   ]
  },
  {
   "cell_type": "code",
   "execution_count": 161,
   "metadata": {},
   "outputs": [
    {
     "data": {
      "text/plain": [
       "array([[[43, 94, 27, 65, 25, 63, 26, 54, 17, 79],\n",
       "        [47, 82, 77, 95, 34,  8, 70, 53, 11, 20],\n",
       "        [ 2, 14, 56, 78, 11, 93, 73, 28, 92, 37],\n",
       "        [36, 89, 84,  7, 66, 34, 84, 86, 46, 68],\n",
       "        [38,  4, 34, 93,  1, 88, 15, 52,  4, 19]],\n",
       "\n",
       "       [[46, 15, 99, 61, 92,  8, 90, 74, 30,  8],\n",
       "        [48,  4, 32, 40, 55, 20, 80, 55, 96, 49],\n",
       "        [99,  6, 35, 28, 39, 56, 91, 51,  1, 27],\n",
       "        [41,  9, 11, 64, 72, 14, 48, 15, 41, 49],\n",
       "        [42, 41, 34, 27, 29, 24, 11, 14, 71, 30]],\n",
       "\n",
       "       [[67,  6, 88, 26, 18, 42, 95, 60, 96, 96],\n",
       "        [99,  8, 89,  1, 27, 48, 49, 58, 70, 54],\n",
       "        [42, 87, 23, 65, 37, 84, 98,  6, 13, 83],\n",
       "        [74, 91, 22, 59, 64, 89, 65, 80, 59, 80],\n",
       "        [53, 78, 12, 48, 33, 92, 82, 54, 23, 94]],\n",
       "\n",
       "       [[54,  4, 86, 36, 69, 53, 25, 63, 91, 48],\n",
       "        [39, 37,  9,  7, 76, 49, 51,  2, 99, 10],\n",
       "        [38,  8, 37, 67, 17,  4, 35, 28, 78, 13],\n",
       "        [ 8, 84, 98, 83, 78, 24, 63, 30, 39, 35],\n",
       "        [59, 71, 81, 47, 40, 71, 73, 52, 42, 19]]])"
      ]
     },
     "execution_count": 161,
     "metadata": {},
     "output_type": "execute_result"
    }
   ],
   "source": [
    "randomArr = np.random.randint(1,100,size=(4,5,10))\n",
    "randomArr"
   ]
  },
  {
   "cell_type": "code",
   "execution_count": 166,
   "metadata": {},
   "outputs": [
    {
     "data": {
      "text/plain": [
       "array([[[[0.19513369, 0.17154598],\n",
       "         [0.3118237 , 0.59183222]],\n",
       "\n",
       "        [[0.03206062, 0.60404703],\n",
       "         [0.68675899, 0.47436718]],\n",
       "\n",
       "        [[0.3623632 , 0.94851162],\n",
       "         [0.57473891, 0.82872706]],\n",
       "\n",
       "        [[0.22458761, 0.35777647],\n",
       "         [0.82433806, 0.4879769 ]],\n",
       "\n",
       "        [[0.23936427, 0.49520371],\n",
       "         [0.47994538, 0.75608019]]],\n",
       "\n",
       "\n",
       "       [[[0.6692878 , 0.21081958],\n",
       "         [0.28432455, 0.10493003]],\n",
       "\n",
       "        [[0.02190787, 0.06441157],\n",
       "         [0.144716  , 0.65635785]],\n",
       "\n",
       "        [[0.40910558, 0.05927607],\n",
       "         [0.28716502, 0.45823878]],\n",
       "\n",
       "        [[0.2473439 , 0.54146213],\n",
       "         [0.72818353, 0.66406708]],\n",
       "\n",
       "        [[0.13774397, 0.51899116],\n",
       "         [0.44989702, 0.84880038]]],\n",
       "\n",
       "\n",
       "       [[[0.97210059, 0.98052134],\n",
       "         [0.600551  , 0.25673548]],\n",
       "\n",
       "        [[0.89715181, 0.11484977],\n",
       "         [0.11381009, 0.22905829]],\n",
       "\n",
       "        [[0.89259082, 0.60105685],\n",
       "         [0.44790907, 0.19759104]],\n",
       "\n",
       "        [[0.20784113, 0.96986186],\n",
       "         [0.94827681, 0.22360152]],\n",
       "\n",
       "        [[0.69658469, 0.80364026],\n",
       "         [0.98082238, 0.94969764]]],\n",
       "\n",
       "\n",
       "       [[[0.99445596, 0.365469  ],\n",
       "         [0.17713673, 0.3059666 ]],\n",
       "\n",
       "        [[0.59766788, 0.0491743 ],\n",
       "         [0.92755779, 0.25952708]],\n",
       "\n",
       "        [[0.40316318, 0.17342266],\n",
       "         [0.62143718, 0.25431606]],\n",
       "\n",
       "        [[0.60493171, 0.41989535],\n",
       "         [0.79785365, 0.8541113 ]],\n",
       "\n",
       "        [[0.25612451, 0.11871427],\n",
       "         [0.50517788, 0.16506613]]]])"
      ]
     },
     "execution_count": 166,
     "metadata": {},
     "output_type": "execute_result"
    }
   ],
   "source": [
    "# Use rand for floats\n",
    "randomArr = np.random.rand(4,5,2,2)\n",
    "randomArr"
   ]
  },
  {
   "cell_type": "code",
   "execution_count": 168,
   "metadata": {},
   "outputs": [
    {
     "data": {
      "text/plain": [
       "0.24734389989242245"
      ]
     },
     "execution_count": 168,
     "metadata": {},
     "output_type": "execute_result"
    }
   ],
   "source": [
    "# Choice \n",
    "np.random.choice(randomArr.reshape(-1))"
   ]
  },
  {
   "cell_type": "code",
   "execution_count": 172,
   "metadata": {},
   "outputs": [
    {
     "data": {
      "text/plain": [
       "array([[0.21081958, 0.144716  , 0.3623632 , 0.17154598, 0.82433806,\n",
       "        0.365469  , 0.96986186, 0.60493171, 0.2473439 , 0.47436718,\n",
       "        0.98082238, 0.10493003, 0.68675899, 0.13774397, 0.62143718,\n",
       "        0.17342266, 0.600551  , 0.0491743 , 0.99445596, 0.02190787,\n",
       "        0.41989535, 0.62143718, 0.16506613, 0.82433806, 0.10493003,\n",
       "        0.49520371, 0.28716502, 0.89715181, 0.16506613, 0.3623632 ,\n",
       "        0.23936427, 0.19759104, 0.8541113 , 0.19513369, 0.17342266,\n",
       "        0.80364026, 0.40316318, 0.57473891, 0.17154598, 0.51899116,\n",
       "        0.59183222, 0.97210059, 0.51899116, 0.28716502, 0.47436718,\n",
       "        0.44989702, 0.25673548, 0.8541113 , 0.365469  , 0.22458761],\n",
       "       [0.13774397, 0.03206062, 0.47994538, 0.22458761, 0.82872706,\n",
       "        0.6692878 , 0.99445596, 0.11381009, 0.0491743 , 0.10493003,\n",
       "        0.28716502, 0.25431606, 0.25612451, 0.57473891, 0.80364026,\n",
       "        0.35777647, 0.11484977, 0.25612451, 0.16506613, 0.25431606,\n",
       "        0.11381009, 0.49520371, 0.23936427, 0.40910558, 0.51899116,\n",
       "        0.62143718, 0.89259082, 0.97210059, 0.41989535, 0.54146213,\n",
       "        0.92755779, 0.98052134, 0.11484977, 0.99445596, 0.3623632 ,\n",
       "        0.03206062, 0.8541113 , 0.3059666 , 0.21081958, 0.16506613,\n",
       "        0.13774397, 0.10493003, 0.13774397, 0.69658469, 0.66406708,\n",
       "        0.2473439 , 0.20784113, 0.2473439 , 0.97210059, 0.17713673],\n",
       "       [0.22360152, 0.94851162, 0.47994538, 0.4879769 , 0.02190787,\n",
       "        0.600551  , 0.99445596, 0.92755779, 0.45823878, 0.3118237 ,\n",
       "        0.21081958, 0.2473439 , 0.22360152, 0.60105685, 0.3623632 ,\n",
       "        0.98082238, 0.51899116, 0.57473891, 0.97210059, 0.19513369,\n",
       "        0.51899116, 0.3059666 , 0.82872706, 0.25673548, 0.11871427,\n",
       "        0.20784113, 0.92755779, 0.2473439 , 0.0491743 , 0.6692878 ,\n",
       "        0.89259082, 0.59183222, 0.84880038, 0.06441157, 0.80364026,\n",
       "        0.60105685, 0.69658469, 0.8541113 , 0.28716502, 0.99445596,\n",
       "        0.40910558, 0.21081958, 0.82433806, 0.3118237 , 0.19759104,\n",
       "        0.25952708, 0.82433806, 0.54146213, 0.79785365, 0.35777647]])"
      ]
     },
     "execution_count": 172,
     "metadata": {},
     "output_type": "execute_result"
    }
   ],
   "source": [
    "np.random.choice(randomArr.reshape(-1),size=(3,50))"
   ]
  },
  {
   "cell_type": "code",
   "execution_count": 174,
   "metadata": {},
   "outputs": [
    {
     "data": {
      "text/plain": [
       "array([[3, 7, 7, 7, 5],\n",
       "       [5, 3, 7, 7, 5],\n",
       "       [7, 3, 7, 7, 7]])"
      ]
     },
     "execution_count": 174,
     "metadata": {},
     "output_type": "execute_result"
    }
   ],
   "source": [
    "## Random Distribution\n",
    "np.random.choice([3, 5, 7, 9], p=[0.1, 0.3, 0.6, 0.0], size=(3, 5))"
   ]
  },
  {
   "cell_type": "code",
   "execution_count": 181,
   "metadata": {},
   "outputs": [
    {
     "name": "stdout",
     "output_type": "stream",
     "text": [
      "[2 3 4 5 1]\n"
     ]
    }
   ],
   "source": [
    "arr = np.array([1,2,3,4,5])\n",
    "np.random.shuffle(arr)\n",
    "print(arr)"
   ]
  },
  {
   "cell_type": "code",
   "execution_count": 186,
   "metadata": {},
   "outputs": [
    {
     "data": {
      "text/plain": [
       "array([[118, 127],\n",
       "       [111, 164]])"
      ]
     },
     "execution_count": 186,
     "metadata": {},
     "output_type": "execute_result"
    }
   ],
   "source": [
    "x = np.random.randint(100,200,size=(2,2))\n",
    "x"
   ]
  },
  {
   "cell_type": "code",
   "execution_count": 187,
   "metadata": {},
   "outputs": [
    {
     "data": {
      "text/plain": [
       "array([[118, 127],\n",
       "       [111, 164]])"
      ]
     },
     "execution_count": 187,
     "metadata": {},
     "output_type": "execute_result"
    }
   ],
   "source": [
    "np.random.permutation(x)\n",
    "x"
   ]
  },
  {
   "cell_type": "code",
   "execution_count": 189,
   "metadata": {},
   "outputs": [],
   "source": [
    "## Plotting\n",
    "import matplotlib.pyplot as plt\n",
    "import seaborn as sns\n",
    "sns.set_theme()"
   ]
  },
  {
   "cell_type": "code",
   "execution_count": 229,
   "metadata": {},
   "outputs": [
    {
     "name": "stderr",
     "output_type": "stream",
     "text": [
      "C:\\Users\\anmol\\AppData\\Local\\Programs\\Python\\Python310\\lib\\site-packages\\seaborn\\distributions.py:2619: FutureWarning: `distplot` is a deprecated function and will be removed in a future version. Please adapt your code to use either `displot` (a figure-level function with similar flexibility) or `histplot` (an axes-level function for histograms).\n",
      "  warnings.warn(msg, FutureWarning)\n"
     ]
    },
    {
     "data": {
      "text/plain": [
       "<AxesSubplot:ylabel='Density'>"
      ]
     },
     "execution_count": 229,
     "metadata": {},
     "output_type": "execute_result"
    },
    {
     "data": {
      "image/png": "[encoded data removed]",
      "text/plain": [
       "<Figure size 432x288 with 1 Axes>"
      ]
     },
     "metadata": {},
     "output_type": "display_data"
    }
   ],
   "source": [
    "sns.distplot(np.random.randint(1,100,size=(10)))"
   ]
  },
  {
   "cell_type": "code",
   "execution_count": 191,
   "metadata": {},
   "outputs": [
    {
     "name": "stderr",
     "output_type": "stream",
     "text": [
      "C:\\Users\\anmol\\AppData\\Local\\Programs\\Python\\Python310\\lib\\site-packages\\seaborn\\distributions.py:2619: FutureWarning: `distplot` is a deprecated function and will be removed in a future version. Please adapt your code to use either `displot` (a figure-level function with similar flexibility) or `histplot` (an axes-level function for histograms).\n",
      "  warnings.warn(msg, FutureWarning)\n"
     ]
    },
    {
     "data": {
      "text/plain": [
       "<AxesSubplot:ylabel='Density'>"
      ]
     },
     "execution_count": 191,
     "metadata": {},
     "output_type": "execute_result"
    },
    {
     "data": {
      "image/png": "[encoded data removed]",
      "text/plain": [
       "<Figure size 432x288 with 1 Axes>"
      ]
     },
     "metadata": {},
     "output_type": "display_data"
    }
   ],
   "source": [
    "sns.distplot([0, 1, 2, 3, 4, 5])"
   ]
  },
  {
   "cell_type": "code",
   "execution_count": 201,
   "metadata": {},
   "outputs": [
    {
     "name": "stderr",
     "output_type": "stream",
     "text": [
      "C:\\Users\\anmol\\AppData\\Local\\Programs\\Python\\Python310\\lib\\site-packages\\seaborn\\distributions.py:2619: FutureWarning: `distplot` is a deprecated function and will be removed in a future version. Please adapt your code to use either `displot` (a figure-level function with similar flexibility) or `kdeplot` (an axes-level function for kernel density plots).\n",
      "  warnings.warn(msg, FutureWarning)\n"
     ]
    },
    {
     "data": {
      "text/plain": [
       "<AxesSubplot:ylabel='Density'>"
      ]
     },
     "execution_count": 201,
     "metadata": {},
     "output_type": "execute_result"
    },
    {
     "data": {
      "image/png": "[encoded data removed]",
      "text/plain": [
       "<Figure size 432x288 with 1 Axes>"
      ]
     },
     "metadata": {},
     "output_type": "display_data"
    }
   ],
   "source": [
    "sns.distplot([0, 1, 2, 3, 4, 5],hist=False)\n"
   ]
  },
  {
   "cell_type": "code",
   "execution_count": 205,
   "metadata": {},
   "outputs": [
    {
     "data": {
      "text/plain": [
       "array([ 8.44261262, 12.33712019, 11.04234071, 12.30504038, 13.14306238,\n",
       "       13.02232564, 12.78819929, 12.97875209, 11.86128519, 13.93992833,\n",
       "       12.88965087, 11.55295439, 11.64613001, 13.26586542, 11.5976008 ,\n",
       "       13.34366846, 11.97219005, 13.87975357, 11.83219145,  9.67918974,\n",
       "       13.1733504 , 13.2594242 , 10.94525772, 11.94791717, 11.22956374,\n",
       "       14.12436649, 11.7503354 , 11.45670694, 10.39359842, 10.33119072,\n",
       "       13.03913962, 13.37847468, 10.74935835, 11.79111526, 11.04184544,\n",
       "       13.04458147, 12.39895142, 13.38540017, 13.5980407 , 10.04467065,\n",
       "       14.18755743, 13.10978863, 11.24577071, 12.50507371, 10.61685325,\n",
       "       12.13510969, 10.46933486, 12.33134954, 12.00002125, 10.67468754,\n",
       "       12.71463375, 11.09347459, 10.16886896, 11.35181798, 13.38629292,\n",
       "       12.39393999,  9.77468007, 12.54939215, 13.66769991, 10.32329091,\n",
       "       12.03546618, 11.59987736, 10.35411003, 10.74273913, 12.25882144,\n",
       "       10.78842588, 13.40255528, 11.8882146 , 11.11557731, 11.48055314,\n",
       "       13.23649677, 11.55766729, 11.73512682, 11.27604835, 11.70470711,\n",
       "       10.40225919, 14.10739987, 13.13596195, 11.62632293, 12.86014708,\n",
       "       11.99464852,  9.74189893, 11.24229822, 12.34963424, 12.30183609,\n",
       "       11.39497011, 13.82110781, 12.12945949, 11.06793189, 11.99056792,\n",
       "       10.35117562, 11.82660186, 14.32401651, 10.19100595, 10.74668002,\n",
       "       13.95120714, 11.60407186, 11.84458879, 12.69282441, 10.49747208,\n",
       "       11.51515125, 10.73306657, 13.13573046, 11.19592769, 11.38123762,\n",
       "       10.12583107, 12.29375131, 11.53182032,  9.8306927 , 12.92000665,\n",
       "       10.09383757,  9.51194804, 11.55770867, 11.16248978, 10.54529695,\n",
       "       13.36369967, 12.10209357, 11.77039238, 14.56201891, 13.29196648,\n",
       "       11.17953546, 12.36767739, 11.34017223, 11.25424045, 12.3764161 ,\n",
       "       11.81866507, 11.37812635, 11.23490757, 12.29645211, 10.50793152,\n",
       "        9.50001594, 15.10633341,  9.7253677 , 10.77190865, 11.22138161,\n",
       "       11.69542251, 11.62571487, 11.29411276, 11.98024672, 13.87697278,\n",
       "       14.85559344,  9.24231405, 11.9104488 , 11.78206858, 10.70390504,\n",
       "       13.61416903, 13.22065267, 13.44707271, 14.0808735 , 13.51119987,\n",
       "       12.31722318, 12.57337333, 12.26063344, 11.19231698, 12.81146472,\n",
       "       13.73968911, 11.83333535, 13.70732514, 10.53134664, 11.99862401,\n",
       "        9.36360032, 11.80226922, 12.84018251,  9.64115769, 13.31863798,\n",
       "       12.78651352, 11.86736659, 10.96742098, 11.19956053, 12.13260606,\n",
       "       11.78448829, 11.61931607, 13.20637673, 13.3579641 , 10.53848617,\n",
       "       12.72437272,  8.74147367, 13.15505862, 13.07860111, 11.73617376,\n",
       "       12.66758486, 10.07596057,  9.3883192 , 12.36642739,  9.54562262,\n",
       "       11.6313652 , 12.25190632, 12.45272143, 12.45693009, 13.66671886,\n",
       "       11.29946331, 12.79769614, 14.04116864, 10.48442328, 11.50681776,\n",
       "       12.05049308, 10.76390022, 10.91171099, 13.66677956, 13.165353  ])"
      ]
     },
     "execution_count": 205,
     "metadata": {},
     "output_type": "execute_result"
    }
   ],
   "source": [
    "## Normal Distribution\n",
    "# loc - mean\n",
    "# scale - size\n",
    "# size - size of array\n",
    "normalDistribution = np.random.normal(loc=12,scale=1.2,size=200)\n",
    "normalDistribution"
   ]
  },
  {
   "cell_type": "code",
   "execution_count": 222,
   "metadata": {},
   "outputs": [
    {
     "name": "stderr",
     "output_type": "stream",
     "text": [
      "C:\\Users\\anmol\\AppData\\Local\\Programs\\Python\\Python310\\lib\\site-packages\\seaborn\\distributions.py:2619: FutureWarning: `distplot` is a deprecated function and will be removed in a future version. Please adapt your code to use either `displot` (a figure-level function with similar flexibility) or `kdeplot` (an axes-level function for kernel density plots).\n",
      "  warnings.warn(msg, FutureWarning)\n"
     ]
    },
    {
     "data": {
      "text/plain": [
       "<AxesSubplot:ylabel='Density'>"
      ]
     },
     "execution_count": 222,
     "metadata": {},
     "output_type": "execute_result"
    },
    {
     "data": {
      "image/png": "[encoded data removed]",
      "text/plain": [
       "<Figure size 432x288 with 1 Axes>"
      ]
     },
     "metadata": {},
     "output_type": "display_data"
    }
   ],
   "source": [
    "sns.distplot(np.random.normal(loc=0,scale=1,size=1000), hist=False)\n"
   ]
  },
  {
   "cell_type": "code",
   "execution_count": 234,
   "metadata": {},
   "outputs": [
    {
     "data": {
      "text/plain": [
       "array([6, 4, 4, ..., 6, 2, 6])"
      ]
     },
     "execution_count": 234,
     "metadata": {},
     "output_type": "execute_result"
    }
   ],
   "source": [
    "## Binomial Distribution\n",
    "# n - number of trials.\n",
    "# p - probability of occurence of each trial (e.g. for toss of a coin 0.5 each).\n",
    "# size - The shape of the returned array\n",
    "binomialDist = np.random.binomial(n=10,p=0.5,size=10000)\n",
    "binomialDist"
   ]
  },
  {
   "cell_type": "code",
   "execution_count": 235,
   "metadata": {},
   "outputs": [
    {
     "data": {
      "text/plain": [
       "<AxesSubplot:>"
      ]
     },
     "execution_count": 235,
     "metadata": {},
     "output_type": "execute_result"
    },
    {
     "data": {
      "image/png": "[encoded data removed]",
      "text/plain": [
       "<Figure size 432x288 with 1 Axes>"
      ]
     },
     "metadata": {},
     "output_type": "display_data"
    }
   ],
   "source": [
    "sns.distplot(binomialDist,hist=True, kde=False)"
   ]
  },
  {
   "cell_type": "code",
   "execution_count": 237,
   "metadata": {},
   "outputs": [
    {
     "name": "stderr",
     "output_type": "stream",
     "text": [
      "C:\\Users\\anmol\\AppData\\Local\\Programs\\Python\\Python310\\lib\\site-packages\\seaborn\\distributions.py:2619: FutureWarning: `distplot` is a deprecated function and will be removed in a future version. Please adapt your code to use either `displot` (a figure-level function with similar flexibility) or `kdeplot` (an axes-level function for kernel density plots).\n",
      "  warnings.warn(msg, FutureWarning)\n",
      "C:\\Users\\anmol\\AppData\\Local\\Programs\\Python\\Python310\\lib\\site-packages\\seaborn\\distributions.py:2619: FutureWarning: `distplot` is a deprecated function and will be removed in a future version. Please adapt your code to use either `displot` (a figure-level function with similar flexibility) or `kdeplot` (an axes-level function for kernel density plots).\n",
      "  warnings.warn(msg, FutureWarning)\n"
     ]
    },
    {
     "data": {
      "text/plain": [
       "<AxesSubplot:ylabel='Density'>"
      ]
     },
     "execution_count": 237,
     "metadata": {},
     "output_type": "execute_result"
    },
    {
     "data": {
      "image/png": "[encoded data removed]",
      "text/plain": [
       "<Figure size 432x288 with 1 Axes>"
      ]
     },
     "metadata": {},
     "output_type": "display_data"
    }
   ],
   "source": [
    "sns.distplot(np.random.normal(loc=50, scale=5, size=1000), hist=False, label='normal')\n",
    "sns.distplot(np.random.binomial(n=100, p=0.5, size=1000), hist=False, label='binomial')"
   ]
  },
  {
   "cell_type": "code",
   "execution_count": 238,
   "metadata": {},
   "outputs": [
    {
     "data": {
      "text/plain": [
       "array([1, 4, 2, 5, 1, 3, 2, 1, 2, 1, 1, 0, 1, 2, 3, 2, 3, 2, 4, 0, 5, 3,\n",
       "       1, 4, 1, 2, 1, 2, 4, 2, 5, 2, 1, 2, 0, 2, 1, 2, 2, 2, 3, 2, 0, 2,\n",
       "       5, 0, 3, 5, 0, 2])"
      ]
     },
     "execution_count": 238,
     "metadata": {},
     "output_type": "execute_result"
    }
   ],
   "source": [
    "## Poisson Distributition\n",
    "# lam - rate of known number of occurence\n",
    "# size - shape of returned array\n",
    "poissonDist = np.random.poisson(lam=2,size=50)\n",
    "poissonDist"
   ]
  },
  {
   "cell_type": "code",
   "execution_count": 244,
   "metadata": {},
   "outputs": [
    {
     "name": "stderr",
     "output_type": "stream",
     "text": [
      "C:\\Users\\anmol\\AppData\\Local\\Programs\\Python\\Python310\\lib\\site-packages\\seaborn\\distributions.py:2619: FutureWarning: `distplot` is a deprecated function and will be removed in a future version. Please adapt your code to use either `displot` (a figure-level function with similar flexibility) or `kdeplot` (an axes-level function for kernel density plots).\n",
      "  warnings.warn(msg, FutureWarning)\n"
     ]
    },
    {
     "data": {
      "text/plain": [
       "<AxesSubplot:ylabel='Density'>"
      ]
     },
     "execution_count": 244,
     "metadata": {},
     "output_type": "execute_result"
    },
    {
     "data": {
      "image/png": "[encoded data removed]",
      "text/plain": [
       "<Figure size 432x288 with 1 Axes>"
      ]
     },
     "metadata": {},
     "output_type": "display_data"
    }
   ],
   "source": [
    "sns.distplot(np.random.poisson(lam=2,size=500),hist=False)"
   ]
  },
  {
   "cell_type": "code",
   "execution_count": 253,
   "metadata": {},
   "outputs": [
    {
     "name": "stderr",
     "output_type": "stream",
     "text": [
      "C:\\Users\\anmol\\AppData\\Local\\Programs\\Python\\Python310\\lib\\site-packages\\seaborn\\distributions.py:2619: FutureWarning: `distplot` is a deprecated function and will be removed in a future version. Please adapt your code to use either `displot` (a figure-level function with similar flexibility) or `kdeplot` (an axes-level function for kernel density plots).\n",
      "  warnings.warn(msg, FutureWarning)\n",
      "C:\\Users\\anmol\\AppData\\Local\\Programs\\Python\\Python310\\lib\\site-packages\\seaborn\\distributions.py:2619: FutureWarning: `distplot` is a deprecated function and will be removed in a future version. Please adapt your code to use either `displot` (a figure-level function with similar flexibility) or `kdeplot` (an axes-level function for kernel density plots).\n",
      "  warnings.warn(msg, FutureWarning)\n",
      "C:\\Users\\anmol\\AppData\\Local\\Programs\\Python\\Python310\\lib\\site-packages\\seaborn\\distributions.py:2619: FutureWarning: `distplot` is a deprecated function and will be removed in a future version. Please adapt your code to use either `displot` (a figure-level function with similar flexibility) or `kdeplot` (an axes-level function for kernel density plots).\n",
      "  warnings.warn(msg, FutureWarning)\n"
     ]
    },
    {
     "data": {
      "text/plain": [
       "<matplotlib.legend.Legend at 0x2c3b7a868f0>"
      ]
     },
     "execution_count": 253,
     "metadata": {},
     "output_type": "execute_result"
    },
    {
     "data": {
      "image/png": "[encoded data removed]",
      "text/plain": [
       "<Figure size 432x288 with 1 Axes>"
      ]
     },
     "metadata": {},
     "output_type": "display_data"
    }
   ],
   "source": [
    "sns.distplot(np.random.normal(loc=50, scale=7, size=1000), hist=False, label='normal')\n",
    "sns.distplot(np.random.binomial(n=100, p=0.5, size=1000), hist=False, label='binomial')\n",
    "sns.distplot(np.random.poisson(lam=50, size=1000), hist=False, label='poisson')\n",
    "plt.legend()"
   ]
  },
  {
   "cell_type": "code",
   "execution_count": 259,
   "metadata": {},
   "outputs": [
    {
     "data": {
      "text/plain": [
       "array([ 8.69526385e-01, -5.59876458e-01, -1.58550213e-01,  9.51954068e-01,\n",
       "        2.42162720e-01, -5.29411152e-01, -9.59217604e-01, -4.81414586e-01,\n",
       "        2.84717669e-03,  2.74466572e-01, -5.29208454e-01,  2.37729209e-01,\n",
       "        3.54663370e-01, -3.47252416e-01, -6.57431457e-01,  2.89304023e-01,\n",
       "        1.12778218e-01,  5.82352312e-01, -7.42752185e-01,  8.56266199e-01,\n",
       "       -3.68277489e-01,  3.16588357e-01,  1.69886986e-01, -1.17138655e-01,\n",
       "        4.78974321e-01, -4.86944844e-01,  3.92750603e-01, -9.01194194e-01,\n",
       "       -6.76951451e-01,  8.72983705e-01, -5.52919972e-01,  8.84767827e-01,\n",
       "        3.94219508e-01,  5.49781067e-01, -6.76891376e-01,  2.83246663e-01,\n",
       "       -6.66944741e-01, -9.40326088e-01, -2.11669889e-01, -5.37901015e-01,\n",
       "       -3.80368323e-01,  6.27563403e-01,  6.50301969e-01, -4.91847464e-01,\n",
       "       -5.73003387e-01, -4.45848236e-01, -9.67218981e-01, -2.05457949e-01,\n",
       "       -8.45010857e-02,  1.08167857e-01, -9.30046109e-01, -2.58911195e-01,\n",
       "       -7.98672157e-01, -8.34813419e-01, -3.66728771e-01,  5.69604387e-01,\n",
       "        4.73739178e-01,  2.40123266e-01,  5.91219210e-01, -6.22340692e-01,\n",
       "        6.47692246e-03,  7.27295770e-01, -1.72889610e-01,  1.47654805e-01,\n",
       "        2.60877138e-02, -6.43074440e-01,  1.88597665e-02, -3.64275379e-01,\n",
       "        9.51603625e-02,  1.45856834e-01,  7.76075273e-01, -4.04787839e-01,\n",
       "        1.83491032e-01,  4.58528238e-01,  9.05589402e-01,  6.66618298e-01,\n",
       "        1.79839558e-01,  6.57749573e-01, -4.29684632e-01,  8.70283531e-01,\n",
       "       -2.07419552e-01, -9.86496692e-01, -9.64814815e-01,  7.69643848e-01,\n",
       "        6.83721655e-03,  3.05805426e-01,  2.56217449e-01, -5.96827220e-02,\n",
       "        9.88322528e-01, -1.71194888e-01, -7.22358853e-01, -9.27420670e-01,\n",
       "       -7.20971840e-01, -7.10648781e-01, -9.42159629e-01,  2.67282356e-01,\n",
       "       -9.91755708e-01,  1.60857853e-01,  2.67969420e-01, -2.94950715e-01,\n",
       "       -1.38781703e-02,  4.96320288e-01,  7.72556330e-01, -9.42346050e-01,\n",
       "       -8.66129400e-01, -7.76611847e-01,  1.72141638e-01,  4.71414067e-01,\n",
       "       -9.28206463e-01, -5.27705758e-01, -8.30231598e-01,  3.54431716e-01,\n",
       "        5.77485437e-01,  7.68556328e-01, -2.89462999e-01,  5.94126608e-01,\n",
       "        2.61491177e-01,  2.62195491e-01, -9.83161758e-01, -8.65143502e-01,\n",
       "       -1.79277150e-01, -4.66370094e-01,  7.92659138e-01, -7.78073815e-01,\n",
       "        2.03426037e-02,  2.43827247e-03,  5.16312045e-01, -9.09899839e-01,\n",
       "        9.69346258e-01,  2.44404472e-01,  9.64235905e-02, -7.76427361e-01,\n",
       "        6.12787569e-01,  8.67027491e-01,  5.17632765e-01, -7.23770255e-01,\n",
       "       -8.03981577e-01,  5.90336131e-01,  3.67196745e-01, -4.89367373e-02,\n",
       "        8.99877615e-01,  5.38955059e-01, -8.79727452e-01,  1.50364077e-02,\n",
       "        1.13512448e-01,  8.10217509e-01, -2.30520245e-01,  9.90292301e-01,\n",
       "       -7.26292512e-01, -5.01638187e-01, -3.06632913e-01,  1.90982709e-01,\n",
       "       -6.66727764e-01, -2.97660388e-01, -9.09142482e-01, -2.28919421e-01,\n",
       "        4.34783059e-01, -6.88078060e-01,  3.90258764e-01,  4.18757389e-01,\n",
       "       -3.57944148e-01,  3.72003534e-01,  6.23478206e-01,  9.94087386e-01,\n",
       "       -9.31821210e-01,  9.71655341e-01, -3.97869344e-01,  3.75255692e-01,\n",
       "        5.06574403e-01, -7.79191322e-01, -5.87397478e-01, -5.15451688e-01,\n",
       "        2.49347593e-01, -4.54715955e-01, -4.71071270e-01, -8.29064979e-01,\n",
       "        5.60699659e-01, -7.76154746e-01, -4.54702203e-01, -1.60136846e-01,\n",
       "        3.24827085e-01, -2.87904570e-01, -9.27061774e-01,  1.19012213e-01,\n",
       "        6.93384973e-01, -7.49450329e-01, -1.95569129e-01,  5.67636376e-01,\n",
       "        1.86604685e-01, -1.86885036e-01,  7.60966061e-02, -2.47511815e-01,\n",
       "       -2.46289838e-01,  1.12666567e-01, -1.59142206e-01, -4.27978702e-01,\n",
       "       -4.31546820e-01,  3.99847175e-01, -5.73589713e-01, -9.51513085e-01,\n",
       "        1.46262310e-01,  7.86562480e-01, -1.92939945e-01, -5.54918523e-01,\n",
       "        3.31660468e-01, -5.30338876e-01,  1.75215236e-01,  1.42021692e-01,\n",
       "        3.91685226e-01, -4.47951130e-01, -9.67006965e-02,  5.21629090e-01,\n",
       "        1.46353895e-01, -1.82216186e-01, -4.83121599e-01, -5.63580300e-01,\n",
       "       -8.57687855e-01,  6.54072602e-01,  7.29797654e-01, -2.23293177e-01,\n",
       "       -8.92820442e-01, -3.51685889e-01,  9.58612613e-01, -7.99916302e-01,\n",
       "       -7.75752252e-01,  7.57297002e-01, -2.54462596e-02, -9.54641535e-01,\n",
       "        3.85092340e-01,  2.65478109e-01,  7.76691921e-02, -5.95949970e-01,\n",
       "       -3.73082964e-01,  5.07504999e-01,  2.84777083e-01,  2.31079616e-01,\n",
       "       -8.53909724e-01,  3.42404935e-01,  9.78498979e-01,  7.24100015e-01,\n",
       "       -8.37384552e-02,  5.73997657e-02,  6.28938886e-01, -1.43510467e-01,\n",
       "        3.49987191e-01,  8.62632738e-01, -9.88939121e-01, -2.48783692e-02,\n",
       "        5.61711109e-01, -3.12193075e-01, -7.35674749e-01, -2.71943676e-01,\n",
       "        2.19146571e-01, -8.75021879e-01,  2.48080251e-01, -5.67654327e-01,\n",
       "        5.41585561e-01, -8.62213301e-02,  8.73101189e-01, -8.14018965e-01,\n",
       "        3.95424369e-01,  8.27881821e-01,  1.01303263e-01, -6.36817458e-01,\n",
       "       -3.79388488e-01, -5.06872976e-01,  2.05936714e-01, -2.95492751e-01,\n",
       "       -4.45739003e-01, -8.23403715e-01,  8.84170089e-01, -5.00430306e-01,\n",
       "        6.58586293e-02,  2.42022363e-01, -4.86003276e-01, -2.63480204e-01,\n",
       "        1.43800855e-01, -9.15012703e-01,  6.65364423e-01, -2.27097274e-01,\n",
       "        7.54597462e-01,  7.02897561e-01, -6.03778982e-01, -3.00927464e-02,\n",
       "       -9.95165356e-03,  2.26312817e-01,  7.80164815e-01, -1.69545018e-01,\n",
       "       -2.16780345e-01, -5.21290414e-01, -2.99347150e-01,  4.01167737e-01,\n",
       "       -2.98012109e-01,  7.02466952e-01,  4.93069427e-02,  7.21425652e-01,\n",
       "       -1.16332388e-01,  1.22295575e-01, -8.40329477e-01, -1.93968023e-01,\n",
       "       -8.23433792e-01, -8.39113136e-01,  2.88169456e-02, -6.14723676e-01,\n",
       "        3.49041625e-01,  8.30727987e-01, -4.41167811e-01,  9.85433860e-01,\n",
       "       -9.00370683e-01, -1.19327644e-01, -1.52914226e-03, -6.57485624e-02,\n",
       "       -7.60278509e-01,  5.85765585e-01, -2.56583434e-01,  6.88020081e-01,\n",
       "       -1.98050777e-02,  4.98138232e-01,  1.97212601e-01, -3.94788736e-01,\n",
       "        4.45068515e-01, -2.87319206e-01,  4.55063345e-01, -4.94806799e-01,\n",
       "        9.99315419e-01, -5.90087946e-01,  9.04734812e-01, -9.24670925e-01,\n",
       "       -1.65139800e-01,  1.99920733e-02,  8.72411596e-01, -8.51606550e-01,\n",
       "       -3.53671296e-01,  7.10523361e-01,  9.95428966e-01, -7.94441009e-01,\n",
       "       -7.83772394e-01, -8.48400278e-01, -6.93135311e-01, -2.42768630e-01,\n",
       "        8.93289232e-01,  4.55928949e-02, -7.55777396e-01, -9.80996127e-02,\n",
       "       -7.36554689e-01,  7.67158068e-01, -9.77854843e-01,  5.12151252e-02,\n",
       "        3.79665958e-01, -9.94169990e-01,  2.61184264e-01, -6.72531574e-01,\n",
       "        3.58958883e-01,  4.03942277e-02,  8.09028703e-01,  3.75029448e-01,\n",
       "       -2.38162917e-01, -7.49339701e-01,  6.43988394e-01,  2.91036529e-01,\n",
       "        7.15437798e-01, -8.23851598e-01, -6.42251978e-01,  2.92133130e-01,\n",
       "        1.46538094e-01, -1.38470564e-01, -6.07549818e-01, -3.10372997e-01,\n",
       "        7.36631406e-01, -9.61611296e-01, -1.26456364e-01, -2.13734619e-01,\n",
       "        9.00566055e-02,  8.56062156e-01, -8.74577769e-01, -4.70650988e-01,\n",
       "        3.91061690e-01, -6.49888754e-01, -5.04936835e-02, -8.09648028e-01,\n",
       "        8.35058269e-02,  5.62639001e-01,  8.87281454e-01,  5.80205736e-01,\n",
       "        3.60393863e-01, -7.32966041e-02,  3.40680142e-02, -7.07929621e-01,\n",
       "       -5.17418023e-01, -1.60942472e-01,  9.15080568e-03, -2.46161098e-01,\n",
       "        3.50248360e-01, -5.77575042e-01,  1.32798572e-01,  2.34841641e-01,\n",
       "       -2.03852129e-01, -3.54112168e-01,  1.15413633e-01,  2.53382076e-01,\n",
       "        1.67327881e-01,  8.12254482e-01,  8.42278402e-01,  5.24534551e-01,\n",
       "       -3.15222780e-01,  6.74855778e-01, -6.43938859e-01, -8.92567508e-01,\n",
       "        5.05903308e-01, -7.37470553e-01,  7.00886407e-01, -7.38593474e-01,\n",
       "       -4.50197575e-01,  2.55459992e-01, -8.40296794e-01,  3.77171845e-01,\n",
       "        9.79021060e-01, -3.92539311e-01,  1.46899345e-01,  9.37474243e-01,\n",
       "       -5.07780880e-01, -4.79702560e-01, -3.34630367e-01,  9.52715474e-01,\n",
       "       -6.05930443e-01,  8.32852973e-01, -4.80410305e-01,  9.97474789e-01,\n",
       "       -4.91642790e-01, -6.44953283e-01,  2.81051912e-01,  2.25578803e-01,\n",
       "        1.37838270e-02,  2.02313840e-01,  8.18846257e-01, -2.29314284e-01,\n",
       "       -6.56678531e-01, -2.72165840e-01,  3.54491437e-01,  5.32523026e-01,\n",
       "       -3.33221722e-01, -5.44287763e-02, -4.95537698e-01,  7.51338126e-01,\n",
       "        9.42285414e-01,  4.88654209e-01, -6.69626101e-01, -1.19756181e-01,\n",
       "        1.23732808e-01,  6.04931945e-01, -7.31185472e-01,  7.90964403e-01,\n",
       "        7.40028121e-01, -2.33021654e-01, -1.51990580e-01, -7.95152917e-01,\n",
       "       -9.61928172e-01, -2.50538255e-02,  9.78046027e-01,  4.71520264e-01,\n",
       "        9.90243865e-01, -6.65544536e-01,  3.35889014e-01, -1.10782185e-01,\n",
       "        8.96697812e-01, -4.16178945e-01, -7.58833756e-02, -9.89300076e-01,\n",
       "       -6.35652109e-01, -8.49721410e-01, -5.22816401e-01, -5.85056418e-01,\n",
       "       -9.48565121e-01,  1.86967285e-01, -2.02564953e-01, -3.55327424e-01,\n",
       "       -7.65578924e-03, -5.13821041e-01, -8.99677649e-01,  8.84260639e-01,\n",
       "        6.69334335e-01, -7.18164271e-01, -5.80726048e-01,  3.47192532e-01,\n",
       "       -6.07551487e-01, -9.91916956e-01, -5.55675346e-01,  3.63763569e-01,\n",
       "       -7.58594420e-01,  9.62896323e-01,  5.01517172e-01,  6.10074555e-01,\n",
       "       -2.60245850e-01, -4.16753321e-03,  9.88707033e-01,  3.30178567e-01,\n",
       "        3.92560091e-01, -1.90218558e-01,  7.11700057e-01, -9.70649860e-01,\n",
       "        5.59650864e-01, -1.62985544e-01,  8.30588583e-01,  5.52078422e-01,\n",
       "       -8.27976311e-01,  5.99553712e-01,  6.37494720e-01,  9.82427403e-01,\n",
       "        9.54632081e-01, -5.85576808e-01, -3.48100588e-02, -6.35442436e-01,\n",
       "       -1.41189723e-01,  3.04438063e-01,  6.10744589e-02,  2.50563381e-01,\n",
       "        4.10995801e-01,  3.88451042e-01, -1.24133920e-01, -3.61913754e-01,\n",
       "        3.95430422e-01, -5.96325029e-01,  4.19340070e-01,  7.93087622e-01,\n",
       "       -3.07258172e-01,  5.61709747e-03, -3.63436488e-01, -4.94571067e-01,\n",
       "        9.86142275e-01,  9.46234605e-01, -8.17579718e-02,  5.88912760e-01,\n",
       "       -3.41740167e-01,  7.54606726e-01,  1.21217059e-01, -6.25687827e-01,\n",
       "        5.96111832e-01, -2.30231042e-01,  2.19148031e-02, -1.63262137e-01,\n",
       "        3.68858196e-02, -2.37969849e-03, -4.14456486e-02,  1.10138088e-02,\n",
       "       -6.12391970e-01, -5.53257566e-01,  4.09720748e-01, -1.32686012e-01,\n",
       "        9.43801041e-01, -7.29593465e-01,  6.17934554e-01, -1.53542102e-01,\n",
       "       -5.66625331e-01, -1.71015981e-01, -1.54407090e-01, -7.81572850e-01,\n",
       "        3.66958552e-01,  2.90210659e-01, -3.52010183e-01,  2.67012895e-01,\n",
       "        8.45360142e-01, -3.12615223e-01,  2.46237685e-01, -6.51094773e-02,\n",
       "        5.48227740e-01, -8.74676299e-01,  9.47355894e-01,  7.83445685e-01,\n",
       "        2.24257644e-01, -9.36360031e-01,  9.26651782e-01, -6.20588758e-01,\n",
       "       -5.90350760e-01, -3.42552924e-01, -8.73335380e-01,  8.37415103e-01,\n",
       "       -5.08879962e-01, -2.74769646e-01, -2.45382621e-01,  9.53426487e-01,\n",
       "        9.91287637e-01, -1.22484949e-01,  9.15591913e-01,  9.95983219e-01,\n",
       "       -7.28593781e-01, -2.22195656e-01, -9.61564176e-01, -8.07360083e-01,\n",
       "       -3.55470775e-01,  5.87430229e-01,  8.51433632e-01, -7.95105974e-01,\n",
       "       -2.86232970e-01,  2.78835621e-02,  7.17677015e-01, -7.61221663e-01,\n",
       "       -3.34557812e-01,  4.59286094e-01, -6.27688666e-01, -2.59901835e-01,\n",
       "        7.76140753e-01, -4.35565019e-01,  1.85142849e-02,  6.92415836e-01,\n",
       "        8.40982893e-02, -7.46933843e-02, -9.45729468e-01, -2.23593128e-01,\n",
       "       -4.54230990e-01,  3.56656848e-01,  2.13336559e-01,  5.24062682e-01,\n",
       "       -5.29951462e-01,  4.07960526e-01,  1.78160923e-01,  5.98199072e-01,\n",
       "       -1.10583212e-01,  2.89409047e-01, -9.23847266e-01, -5.94106511e-05,\n",
       "       -8.23671974e-01, -4.77765201e-01,  3.08098278e-01,  7.18770221e-01,\n",
       "        2.14294071e-01,  5.31530158e-01, -6.55827740e-01, -9.14760472e-02,\n",
       "        5.93557212e-01, -2.36666594e-01,  8.76111669e-01,  2.14721089e-01,\n",
       "       -8.11081933e-01, -4.00074030e-01, -7.94671209e-01, -4.46881242e-02,\n",
       "       -7.83825577e-02, -1.60825186e-01, -8.58941401e-01, -4.67917510e-01,\n",
       "        9.12952171e-01,  5.83534391e-01, -9.41891909e-01,  7.81335979e-01,\n",
       "        2.43859213e-01,  8.67682135e-01,  8.07754949e-01, -6.20770449e-01,\n",
       "       -7.07398102e-01,  9.99284825e-01,  7.42033872e-01,  9.91707615e-01,\n",
       "        8.31989402e-02, -6.29857702e-01, -1.66353683e-01,  3.22932120e-01,\n",
       "       -6.53320706e-01,  8.43672419e-01,  2.33812962e-01, -7.22847534e-01,\n",
       "        2.68338042e-03, -2.24273005e-01,  9.12954398e-01,  4.99880080e-01,\n",
       "       -4.70829123e-01,  4.04698954e-01, -5.91567040e-01,  3.33769833e-01,\n",
       "        3.73393102e-01,  2.77924895e-01, -3.18387763e-01,  8.54729860e-01,\n",
       "       -8.70238284e-01,  8.77666085e-01,  2.65048396e-01,  1.25166951e-01,\n",
       "       -4.46649243e-01, -3.99672215e-01,  8.07615910e-01, -3.70383198e-01,\n",
       "        5.97324684e-01, -7.70499059e-01, -4.88496423e-01,  2.62692504e-01,\n",
       "       -6.00806728e-01,  9.94399895e-01, -6.04463717e-01, -1.67576322e-01,\n",
       "        3.10026767e-01,  1.68953659e-01, -3.07277484e-01, -1.44011831e-01,\n",
       "        8.80883789e-01,  2.70472686e-01,  7.69435292e-01, -9.23565554e-01,\n",
       "        4.62560441e-01,  6.61887635e-01, -3.91343475e-01, -6.03025119e-01,\n",
       "       -7.18463521e-01, -6.60903395e-01,  6.73668498e-01, -7.96064196e-02,\n",
       "       -6.31276985e-01, -4.09327785e-01,  4.30535899e-01, -2.07755906e-01,\n",
       "       -9.80009478e-01,  6.83283331e-01,  5.70320916e-01, -7.04914562e-01,\n",
       "       -9.98083724e-01, -3.39994641e-01, -4.76175144e-02,  6.18982949e-01,\n",
       "       -2.61169284e-01, -3.63356609e-01,  7.08114318e-01, -5.37397328e-01,\n",
       "        4.38048345e-01, -4.80022055e-01,  5.93875131e-01, -8.07629006e-01,\n",
       "        7.83111916e-01, -1.74396999e-01, -9.30697890e-01, -9.14432426e-01,\n",
       "        1.90776534e-01, -1.62277560e-01,  8.20781297e-02,  5.36373135e-01,\n",
       "        8.19608340e-01,  8.22378377e-02,  7.48668976e-01,  9.71441756e-01,\n",
       "        6.21320716e-01, -8.72095018e-01, -2.68528979e-01, -9.30747904e-01,\n",
       "        2.92234438e-01,  6.27768798e-01, -2.32445791e-01,  4.11492922e-01,\n",
       "       -1.83384980e-01,  8.73672394e-01,  6.46864339e-01,  6.88514948e-01,\n",
       "        6.83679419e-01, -8.37555334e-01,  1.53446280e-01, -2.30301990e-01,\n",
       "       -9.00275881e-01, -7.57606267e-01, -1.69686221e-01, -2.95975794e-01,\n",
       "       -8.53945838e-01, -8.39705413e-01, -3.64971414e-01, -3.49410309e-01,\n",
       "        6.75405355e-02, -5.13971075e-01,  8.83929088e-01, -6.68081813e-01,\n",
       "        8.67125066e-01, -7.49781017e-01, -3.81055200e-01,  1.16340780e-01,\n",
       "       -7.19913601e-01, -2.63244866e-01, -1.55243154e-01,  1.84026127e-01,\n",
       "       -1.22679273e-01,  3.19592080e-01,  6.73622968e-01, -2.62070495e-01,\n",
       "       -6.67787865e-01, -9.20042545e-01, -5.98861542e-01,  1.29181281e-01,\n",
       "       -1.31503542e-01, -5.74452299e-01, -2.59307867e-02, -3.81112033e-01,\n",
       "       -3.50659678e-01,  9.54557002e-01,  7.25368851e-02, -8.91742025e-01,\n",
       "       -6.15984282e-01, -3.86673738e-01, -9.23668006e-01, -3.27921211e-01,\n",
       "        5.10891889e-01,  7.10742576e-02, -7.39703187e-01, -7.96143911e-01,\n",
       "        2.50352292e-03,  1.66983874e-01, -8.77545078e-01,  2.78407981e-01,\n",
       "       -5.52839926e-01,  6.88574103e-01, -6.13398140e-01, -2.70317605e-01,\n",
       "       -9.50814443e-01,  4.24528068e-01, -9.66929149e-01, -9.27321715e-01,\n",
       "       -5.71884647e-01, -3.35698046e-01,  9.33599599e-01,  5.84264086e-01,\n",
       "       -3.97319824e-01, -3.97580495e-01,  7.89486023e-01,  7.05883301e-01,\n",
       "        1.63432331e-01, -4.10003911e-01, -4.67358764e-01,  7.01952733e-01,\n",
       "        5.73040977e-01, -2.15824537e-01, -1.52344385e-01,  8.29688798e-01,\n",
       "       -5.12061041e-02,  3.20105634e-01, -3.37978558e-01,  5.85996338e-02,\n",
       "       -8.66637639e-01, -8.84529075e-01, -5.17570120e-04,  1.95394889e-02,\n",
       "       -7.76272697e-01,  6.94844923e-01,  8.72004191e-01,  2.54747737e-01,\n",
       "        1.27609506e-02,  7.66207793e-01,  7.59172774e-01, -4.48208703e-02,\n",
       "        9.49597986e-01, -5.21770878e-01, -4.55337612e-01, -5.06692999e-01,\n",
       "        2.05892550e-01,  7.54199389e-02, -6.54331883e-01, -6.73371141e-01,\n",
       "       -2.03765821e-01, -8.80770779e-01,  1.60687850e-01,  7.69588270e-01,\n",
       "        9.09055512e-01, -6.17476769e-01, -2.26638832e-01, -2.86272172e-02,\n",
       "       -2.04198464e-01, -4.77029120e-01,  2.62738491e-01, -9.39934858e-01,\n",
       "        5.65088188e-01,  5.70816609e-01, -5.62213366e-01, -5.79289415e-02,\n",
       "        3.26441563e-01,  9.07671193e-01,  8.52187485e-01, -3.11564116e-01,\n",
       "        4.27517914e-01,  7.90923658e-01, -1.16612426e-01,  8.81144140e-01,\n",
       "        3.88752676e-01, -9.51501175e-01,  9.21349707e-01,  3.68513779e-01,\n",
       "        7.56525148e-01, -7.45975703e-01,  4.60388874e-01,  4.39580398e-01,\n",
       "        7.76680667e-01, -4.38657176e-01, -8.66006259e-01, -4.89428222e-01,\n",
       "        8.39191613e-01, -4.08848028e-01, -8.45462966e-01,  8.16517394e-01,\n",
       "       -6.53093878e-01,  3.83617738e-01,  1.28060879e-01,  8.33439580e-01,\n",
       "       -4.72589200e-01,  8.56688895e-01,  8.20603219e-01, -4.95424924e-01,\n",
       "       -9.58027675e-01,  7.60371769e-01,  9.01965264e-01, -7.40660293e-01,\n",
       "       -6.91855857e-01,  2.61100664e-01,  3.70632263e-02,  3.08849683e-01,\n",
       "        3.33924428e-01,  2.30465831e-01,  7.29159656e-02,  1.84862189e-02,\n",
       "       -5.29010144e-01, -7.24205803e-01, -8.94466243e-02,  3.75184330e-01,\n",
       "        6.00199087e-02,  2.10638454e-01, -9.00571110e-01, -3.31918851e-01,\n",
       "        9.75388239e-01,  5.89894957e-01, -2.73499672e-01, -9.57157072e-01,\n",
       "        3.31390915e-01,  7.74465518e-02, -9.28969781e-01, -8.90778640e-01,\n",
       "       -1.61974864e-01,  8.54500871e-01,  5.35461789e-01, -5.07767875e-01,\n",
       "       -5.20858675e-02,  4.44848261e-02,  7.97810876e-01,  4.06874258e-03,\n",
       "       -9.91321674e-01,  4.20216711e-01, -5.94736664e-01, -5.79664471e-01,\n",
       "       -1.27864600e-01,  4.72778576e-01, -6.99836180e-01, -1.47878857e-01,\n",
       "        6.36774857e-01,  6.79522319e-01,  5.96594922e-01, -2.43245928e-01,\n",
       "        3.33074219e-01,  8.37867790e-01,  8.11963170e-01,  5.58276576e-01,\n",
       "       -5.23053080e-01, -2.00130603e-02,  6.18757507e-01, -3.33960565e-01,\n",
       "        5.65670758e-01, -4.23530848e-01, -3.20258691e-01,  4.44637850e-01,\n",
       "       -3.56120268e-01,  1.36750762e-01, -5.89626486e-01, -7.08113867e-01,\n",
       "       -9.03309872e-01,  3.80076496e-02,  4.45460800e-01, -4.67772160e-01,\n",
       "       -2.26605399e-01,  7.33712542e-01, -2.56498530e-01,  7.36574632e-01,\n",
       "       -3.08675073e-01, -4.14601178e-01,  2.38802500e-01, -4.18207546e-01,\n",
       "        9.66687687e-01,  5.66832141e-01,  3.90099604e-01,  5.19404341e-01,\n",
       "        9.62507560e-01,  3.83307695e-01,  6.39355094e-01,  1.99598632e-02,\n",
       "       -1.84862286e-01, -9.67104027e-01,  3.28488432e-01,  1.71641353e-01,\n",
       "        1.15774312e-03,  7.57623432e-01, -6.74434430e-01,  9.89405929e-01,\n",
       "       -1.00865726e-01, -6.29599411e-01,  1.81068712e-01, -2.68406869e-02,\n",
       "        4.85074003e-01,  5.16216283e-01, -1.51637268e-01, -1.10588506e-01,\n",
       "        2.07568957e-01,  3.69474164e-02, -3.59042067e-01, -2.17137397e-01])"
      ]
     },
     "execution_count": 259,
     "metadata": {},
     "output_type": "execute_result"
    }
   ],
   "source": [
    "# Uniform Distribution\n",
    "# a = lower bound\n",
    "# b = upper bound\n",
    "# size = shape of the array\n",
    "uniformDist = np.random.uniform(-1,1,size=(1000))\n",
    "uniformDist"
   ]
  },
  {
   "cell_type": "code",
   "execution_count": 260,
   "metadata": {},
   "outputs": [
    {
     "name": "stderr",
     "output_type": "stream",
     "text": [
      "C:\\Users\\anmol\\AppData\\Local\\Programs\\Python\\Python310\\lib\\site-packages\\seaborn\\distributions.py:2619: FutureWarning: `distplot` is a deprecated function and will be removed in a future version. Please adapt your code to use either `displot` (a figure-level function with similar flexibility) or `kdeplot` (an axes-level function for kernel density plots).\n",
      "  warnings.warn(msg, FutureWarning)\n"
     ]
    },
    {
     "data": {
      "text/plain": [
       "<AxesSubplot:ylabel='Density'>"
      ]
     },
     "execution_count": 260,
     "metadata": {},
     "output_type": "execute_result"
    },
    {
     "data": {
      "image/png": "[encoded data removed]",
      "text/plain": [
       "<Figure size 432x288 with 1 Axes>"
      ]
     },
     "metadata": {},
     "output_type": "display_data"
    }
   ],
   "source": [
    "sns.distplot(uniformDist,hist=False)"
   ]
  },
  {
   "cell_type": "code",
   "execution_count": 262,
   "metadata": {},
   "outputs": [
    {
     "data": {
      "text/plain": [
       "array([[ 2.93807378, -0.52595218, -8.10361553],\n",
       "       [ 1.59363821,  6.03589645,  4.60841715]])"
      ]
     },
     "execution_count": 262,
     "metadata": {},
     "output_type": "execute_result"
    }
   ],
   "source": [
    "## Logistic Distributition\n",
    "# loc - mean\n",
    "# scale - sd\n",
    "# size - shape of array\n",
    "logisiticDist = np.random.logistic(loc=1,scale=2,size=(2,3))\n",
    "logisiticDist"
   ]
  },
  {
   "cell_type": "code",
   "execution_count": 264,
   "metadata": {},
   "outputs": [
    {
     "name": "stderr",
     "output_type": "stream",
     "text": [
      "C:\\Users\\anmol\\AppData\\Local\\Programs\\Python\\Python310\\lib\\site-packages\\seaborn\\distributions.py:2619: FutureWarning: `distplot` is a deprecated function and will be removed in a future version. Please adapt your code to use either `displot` (a figure-level function with similar flexibility) or `kdeplot` (an axes-level function for kernel density plots).\n",
      "  warnings.warn(msg, FutureWarning)\n"
     ]
    },
    {
     "data": {
      "text/plain": [
       "<AxesSubplot:ylabel='Density'>"
      ]
     },
     "execution_count": 264,
     "metadata": {},
     "output_type": "execute_result"
    },
    {
     "data": {
      "image/png": "[encoded data removed]",
      "text/plain": [
       "<Figure size 432x288 with 1 Axes>"
      ]
     },
     "metadata": {},
     "output_type": "display_data"
    }
   ],
   "source": [
    "sns.distplot(np.random.logistic(size=1000), hist=False)"
   ]
  },
  {
   "cell_type": "code",
   "execution_count": 265,
   "metadata": {},
   "outputs": [
    {
     "data": {
      "text/plain": [
       "array([0.        , 1.        , 1.5849625 , 2.        , 2.32192809,\n",
       "       2.5849625 , 2.80735492, 3.        , 3.169925  , 3.32192809,\n",
       "       3.45943162, 3.5849625 , 3.70043972, 3.80735492, 3.9068906 ,\n",
       "       4.        , 4.08746284, 4.169925  , 4.24792751, 4.32192809,\n",
       "       4.39231742, 4.45943162, 4.52356196, 4.5849625 , 4.64385619,\n",
       "       4.70043972, 4.7548875 , 4.80735492, 4.857981  , 4.9068906 ,\n",
       "       4.95419631, 5.        , 5.04439412, 5.08746284, 5.12928302,\n",
       "       5.169925  , 5.20945337, 5.24792751, 5.28540222, 5.32192809,\n",
       "       5.357552  , 5.39231742, 5.42626475, 5.45943162, 5.4918531 ,\n",
       "       5.52356196, 5.55458885, 5.5849625 , 5.61470984, 5.64385619,\n",
       "       5.67242534, 5.70043972, 5.72792045, 5.7548875 , 5.78135971,\n",
       "       5.80735492, 5.83289001, 5.857981  , 5.88264305, 5.9068906 ,\n",
       "       5.93073734, 5.95419631, 5.97727992, 6.        , 6.02236781,\n",
       "       6.04439412, 6.06608919, 6.08746284, 6.10852446, 6.12928302,\n",
       "       6.14974712, 6.169925  , 6.18982456, 6.20945337, 6.22881869,\n",
       "       6.24792751, 6.26678654, 6.28540222, 6.30378075, 6.32192809,\n",
       "       6.33985   , 6.357552  , 6.37503943, 6.39231742, 6.40939094,\n",
       "       6.42626475, 6.4429435 , 6.45943162, 6.47573343, 6.4918531 ,\n",
       "       6.50779464, 6.52356196, 6.53915881, 6.55458885, 6.56985561,\n",
       "       6.5849625 , 6.59991284, 6.61470984, 6.62935662])"
      ]
     },
     "execution_count": 265,
     "metadata": {},
     "output_type": "execute_result"
    }
   ],
   "source": [
    "np.log2(np.arange(1,100))"
   ]
  },
  {
   "cell_type": "code",
   "execution_count": 267,
   "metadata": {},
   "outputs": [
    {
     "data": {
      "text/plain": [
       "1.0"
      ]
     },
     "execution_count": 267,
     "metadata": {},
     "output_type": "execute_result"
    }
   ],
   "source": [
    "np.sin(np.pi/2)"
   ]
  },
  {
   "cell_type": "code",
   "execution_count": 269,
   "metadata": {},
   "outputs": [],
   "source": [
    "import pandas as pd"
   ]
  },
  {
   "cell_type": "code",
   "execution_count": 271,
   "metadata": {},
   "outputs": [],
   "source": [
    "data = {\n",
    "    \"X\": np.random.normal(loc=5,scale=50,size=100),\n",
    "    \"Y\": np.random.poisson(lam=5,size=100),\n",
    "}"
   ]
  },
  {
   "cell_type": "code",
   "execution_count": 272,
   "metadata": {},
   "outputs": [
    {
     "data": {
      "text/html": [
       "<div>\n",
       "<style scoped>\n",
       "    .dataframe tbody tr th:only-of-type {\n",
       "        vertical-align: middle;\n",
       "    }\n",
       "\n",
       "    .dataframe tbody tr th {\n",
       "        vertical-align: top;\n",
       "    }\n",
       "\n",
       "    .dataframe thead th {\n",
       "        text-align: right;\n",
       "    }\n",
       "</style>\n",
       "<table border=\"1\" class=\"dataframe\">\n",
       "  <thead>\n",
       "    <tr style=\"text-align: right;\">\n",
       "      <th></th>\n",
       "      <th>X</th>\n",
       "      <th>Y</th>\n",
       "    </tr>\n",
       "  </thead>\n",
       "  <tbody>\n",
       "    <tr>\n",
       "      <th>0</th>\n",
       "      <td>-56.728120</td>\n",
       "      <td>7</td>\n",
       "    </tr>\n",
       "    <tr>\n",
       "      <th>1</th>\n",
       "      <td>25.364151</td>\n",
       "      <td>5</td>\n",
       "    </tr>\n",
       "    <tr>\n",
       "      <th>2</th>\n",
       "      <td>27.224085</td>\n",
       "      <td>4</td>\n",
       "    </tr>\n",
       "    <tr>\n",
       "      <th>3</th>\n",
       "      <td>-72.302445</td>\n",
       "      <td>2</td>\n",
       "    </tr>\n",
       "    <tr>\n",
       "      <th>4</th>\n",
       "      <td>12.321021</td>\n",
       "      <td>2</td>\n",
       "    </tr>\n",
       "    <tr>\n",
       "      <th>...</th>\n",
       "      <td>...</td>\n",
       "      <td>...</td>\n",
       "    </tr>\n",
       "    <tr>\n",
       "      <th>95</th>\n",
       "      <td>-17.208773</td>\n",
       "      <td>4</td>\n",
       "    </tr>\n",
       "    <tr>\n",
       "      <th>96</th>\n",
       "      <td>-14.048490</td>\n",
       "      <td>2</td>\n",
       "    </tr>\n",
       "    <tr>\n",
       "      <th>97</th>\n",
       "      <td>35.613489</td>\n",
       "      <td>4</td>\n",
       "    </tr>\n",
       "    <tr>\n",
       "      <th>98</th>\n",
       "      <td>74.509184</td>\n",
       "      <td>8</td>\n",
       "    </tr>\n",
       "    <tr>\n",
       "      <th>99</th>\n",
       "      <td>116.572721</td>\n",
       "      <td>7</td>\n",
       "    </tr>\n",
       "  </tbody>\n",
       "</table>\n",
       "<p>100 rows × 2 columns</p>\n",
       "</div>"
      ],
      "text/plain": [
       "             X  Y\n",
       "0   -56.728120  7\n",
       "1    25.364151  5\n",
       "2    27.224085  4\n",
       "3   -72.302445  2\n",
       "4    12.321021  2\n",
       "..         ... ..\n",
       "95  -17.208773  4\n",
       "96  -14.048490  2\n",
       "97   35.613489  4\n",
       "98   74.509184  8\n",
       "99  116.572721  7\n",
       "\n",
       "[100 rows x 2 columns]"
      ]
     },
     "execution_count": 272,
     "metadata": {},
     "output_type": "execute_result"
    }
   ],
   "source": [
    "df = pd.DataFrame(data)\n",
    "df"
   ]
  },
  {
   "cell_type": "code",
   "execution_count": 273,
   "metadata": {},
   "outputs": [
    {
     "name": "stderr",
     "output_type": "stream",
     "text": [
      "C:\\Users\\anmol\\AppData\\Local\\Programs\\Python\\Python310\\lib\\site-packages\\seaborn\\_decorators.py:36: FutureWarning: Pass the following variables as keyword args: x, y. From version 0.12, the only valid positional argument will be `data`, and passing other arguments without an explicit keyword will result in an error or misinterpretation.\n",
      "  warnings.warn(\n"
     ]
    },
    {
     "data": {
      "text/plain": [
       "<AxesSubplot:xlabel='X', ylabel='Y'>"
      ]
     },
     "execution_count": 273,
     "metadata": {},
     "output_type": "execute_result"
    },
    {
     "data": {
      "image/png": "[encoded data removed]",
      "text/plain": [
       "<Figure size 432x288 with 1 Axes>"
      ]
     },
     "metadata": {},
     "output_type": "display_data"
    }
   ],
   "source": [
    "sns.scatterplot(df.X,df.Y)"
   ]
  },
  {
   "cell_type": "code",
   "execution_count": 277,
   "metadata": {},
   "outputs": [
    {
     "data": {
      "text/plain": [
       "RangeIndex(start=0, stop=100, step=1)"
      ]
     },
     "execution_count": 277,
     "metadata": {},
     "output_type": "execute_result"
    }
   ],
   "source": [
    "df.index"
   ]
  },
  {
   "cell_type": "code",
   "execution_count": 280,
   "metadata": {},
   "outputs": [
    {
     "data": {
      "text/plain": [
       "X    25.364151\n",
       "Y     5.000000\n",
       "Name: 1, dtype: float64"
      ]
     },
     "execution_count": 280,
     "metadata": {},
     "output_type": "execute_result"
    }
   ],
   "source": [
    "df.loc[1]"
   ]
  },
  {
   "cell_type": "code",
   "execution_count": 281,
   "metadata": {},
   "outputs": [
    {
     "name": "stdout",
     "output_type": "stream",
     "text": [
      "<class 'pandas.core.frame.DataFrame'>\n",
      "RangeIndex: 100 entries, 0 to 99\n",
      "Data columns (total 2 columns):\n",
      " #   Column  Non-Null Count  Dtype  \n",
      "---  ------  --------------  -----  \n",
      " 0   X       100 non-null    float64\n",
      " 1   Y       100 non-null    int32  \n",
      "dtypes: float64(1), int32(1)\n",
      "memory usage: 1.3 KB\n"
     ]
    }
   ],
   "source": [
    "df.info()"
   ]
  },
  {
   "cell_type": "code",
   "execution_count": 283,
   "metadata": {},
   "outputs": [
    {
     "data": {
      "text/html": [
       "<div>\n",
       "<style scoped>\n",
       "    .dataframe tbody tr th:only-of-type {\n",
       "        vertical-align: middle;\n",
       "    }\n",
       "\n",
       "    .dataframe tbody tr th {\n",
       "        vertical-align: top;\n",
       "    }\n",
       "\n",
       "    .dataframe thead th {\n",
       "        text-align: right;\n",
       "    }\n",
       "</style>\n",
       "<table border=\"1\" class=\"dataframe\">\n",
       "  <thead>\n",
       "    <tr style=\"text-align: right;\">\n",
       "      <th></th>\n",
       "      <th>count</th>\n",
       "      <th>mean</th>\n",
       "      <th>std</th>\n",
       "      <th>min</th>\n",
       "      <th>25%</th>\n",
       "      <th>50%</th>\n",
       "      <th>75%</th>\n",
       "      <th>max</th>\n",
       "    </tr>\n",
       "  </thead>\n",
       "  <tbody>\n",
       "    <tr>\n",
       "      <th>X</th>\n",
       "      <td>100.0</td>\n",
       "      <td>11.029869</td>\n",
       "      <td>47.449305</td>\n",
       "      <td>-117.597473</td>\n",
       "      <td>-18.655677</td>\n",
       "      <td>12.543532</td>\n",
       "      <td>37.519572</td>\n",
       "      <td>162.730696</td>\n",
       "    </tr>\n",
       "    <tr>\n",
       "      <th>Y</th>\n",
       "      <td>100.0</td>\n",
       "      <td>4.670000</td>\n",
       "      <td>2.165174</td>\n",
       "      <td>1.000000</td>\n",
       "      <td>3.000000</td>\n",
       "      <td>4.000000</td>\n",
       "      <td>6.000000</td>\n",
       "      <td>13.000000</td>\n",
       "    </tr>\n",
       "  </tbody>\n",
       "</table>\n",
       "</div>"
      ],
      "text/plain": [
       "   count       mean        std         min        25%        50%        75%  \\\n",
       "X  100.0  11.029869  47.449305 -117.597473 -18.655677  12.543532  37.519572   \n",
       "Y  100.0   4.670000   2.165174    1.000000   3.000000   4.000000   6.000000   \n",
       "\n",
       "          max  \n",
       "X  162.730696  \n",
       "Y   13.000000  "
      ]
     },
     "execution_count": 283,
     "metadata": {},
     "output_type": "execute_result"
    }
   ],
   "source": [
    "df.describe().T"
   ]
  },
  {
   "cell_type": "code",
   "execution_count": 284,
   "metadata": {},
   "outputs": [],
   "source": [
    "df = pd.read_csv('testDataSet.csv')"
   ]
  },
  {
   "cell_type": "code",
   "execution_count": 285,
   "metadata": {},
   "outputs": [
    {
     "data": {
      "text/html": [
       "<div>\n",
       "<style scoped>\n",
       "    .dataframe tbody tr th:only-of-type {\n",
       "        vertical-align: middle;\n",
       "    }\n",
       "\n",
       "    .dataframe tbody tr th {\n",
       "        vertical-align: top;\n",
       "    }\n",
       "\n",
       "    .dataframe thead th {\n",
       "        text-align: right;\n",
       "    }\n",
       "</style>\n",
       "<table border=\"1\" class=\"dataframe\">\n",
       "  <thead>\n",
       "    <tr style=\"text-align: right;\">\n",
       "      <th></th>\n",
       "      <th>Duration</th>\n",
       "      <th>Date</th>\n",
       "      <th>Pulse</th>\n",
       "      <th>Maxpulse</th>\n",
       "      <th>Calories</th>\n",
       "    </tr>\n",
       "  </thead>\n",
       "  <tbody>\n",
       "    <tr>\n",
       "      <th>0</th>\n",
       "      <td>60</td>\n",
       "      <td>'2020/12/01'</td>\n",
       "      <td>110</td>\n",
       "      <td>130</td>\n",
       "      <td>409.1</td>\n",
       "    </tr>\n",
       "    <tr>\n",
       "      <th>1</th>\n",
       "      <td>60</td>\n",
       "      <td>'2020/12/02'</td>\n",
       "      <td>117</td>\n",
       "      <td>145</td>\n",
       "      <td>479.0</td>\n",
       "    </tr>\n",
       "    <tr>\n",
       "      <th>2</th>\n",
       "      <td>60</td>\n",
       "      <td>'2020/12/03'</td>\n",
       "      <td>103</td>\n",
       "      <td>135</td>\n",
       "      <td>340.0</td>\n",
       "    </tr>\n",
       "    <tr>\n",
       "      <th>3</th>\n",
       "      <td>45</td>\n",
       "      <td>'2020/12/04'</td>\n",
       "      <td>109</td>\n",
       "      <td>175</td>\n",
       "      <td>282.4</td>\n",
       "    </tr>\n",
       "    <tr>\n",
       "      <th>4</th>\n",
       "      <td>45</td>\n",
       "      <td>'2020/12/05'</td>\n",
       "      <td>117</td>\n",
       "      <td>148</td>\n",
       "      <td>406.0</td>\n",
       "    </tr>\n",
       "  </tbody>\n",
       "</table>\n",
       "</div>"
      ],
      "text/plain": [
       "   Duration          Date  Pulse  Maxpulse  Calories\n",
       "0        60  '2020/12/01'    110       130     409.1\n",
       "1        60  '2020/12/02'    117       145     479.0\n",
       "2        60  '2020/12/03'    103       135     340.0\n",
       "3        45  '2020/12/04'    109       175     282.4\n",
       "4        45  '2020/12/05'    117       148     406.0"
      ]
     },
     "execution_count": 285,
     "metadata": {},
     "output_type": "execute_result"
    }
   ],
   "source": [
    "df.head()"
   ]
  },
  {
   "cell_type": "code",
   "execution_count": 286,
   "metadata": {},
   "outputs": [
    {
     "name": "stdout",
     "output_type": "stream",
     "text": [
      "<class 'pandas.core.frame.DataFrame'>\n",
      "RangeIndex: 32 entries, 0 to 31\n",
      "Data columns (total 5 columns):\n",
      " #   Column    Non-Null Count  Dtype  \n",
      "---  ------    --------------  -----  \n",
      " 0   Duration  32 non-null     int64  \n",
      " 1   Date      31 non-null     object \n",
      " 2   Pulse     32 non-null     int64  \n",
      " 3   Maxpulse  32 non-null     int64  \n",
      " 4   Calories  30 non-null     float64\n",
      "dtypes: float64(1), int64(3), object(1)\n",
      "memory usage: 1.4+ KB\n"
     ]
    }
   ],
   "source": [
    "df.info()"
   ]
  },
  {
   "cell_type": "code",
   "execution_count": 287,
   "metadata": {},
   "outputs": [
    {
     "data": {
      "text/html": [
       "<div>\n",
       "<style scoped>\n",
       "    .dataframe tbody tr th:only-of-type {\n",
       "        vertical-align: middle;\n",
       "    }\n",
       "\n",
       "    .dataframe tbody tr th {\n",
       "        vertical-align: top;\n",
       "    }\n",
       "\n",
       "    .dataframe thead th {\n",
       "        text-align: right;\n",
       "    }\n",
       "</style>\n",
       "<table border=\"1\" class=\"dataframe\">\n",
       "  <thead>\n",
       "    <tr style=\"text-align: right;\">\n",
       "      <th></th>\n",
       "      <th>count</th>\n",
       "      <th>mean</th>\n",
       "      <th>std</th>\n",
       "      <th>min</th>\n",
       "      <th>25%</th>\n",
       "      <th>50%</th>\n",
       "      <th>75%</th>\n",
       "      <th>max</th>\n",
       "    </tr>\n",
       "  </thead>\n",
       "  <tbody>\n",
       "    <tr>\n",
       "      <th>Duration</th>\n",
       "      <td>32.0</td>\n",
       "      <td>68.4375</td>\n",
       "      <td>70.039591</td>\n",
       "      <td>30.0</td>\n",
       "      <td>60.0</td>\n",
       "      <td>60.0</td>\n",
       "      <td>60.000</td>\n",
       "      <td>450.0</td>\n",
       "    </tr>\n",
       "    <tr>\n",
       "      <th>Pulse</th>\n",
       "      <td>32.0</td>\n",
       "      <td>103.5000</td>\n",
       "      <td>7.832933</td>\n",
       "      <td>90.0</td>\n",
       "      <td>100.0</td>\n",
       "      <td>102.5</td>\n",
       "      <td>106.500</td>\n",
       "      <td>130.0</td>\n",
       "    </tr>\n",
       "    <tr>\n",
       "      <th>Maxpulse</th>\n",
       "      <td>32.0</td>\n",
       "      <td>128.5000</td>\n",
       "      <td>12.998759</td>\n",
       "      <td>101.0</td>\n",
       "      <td>120.0</td>\n",
       "      <td>127.5</td>\n",
       "      <td>132.250</td>\n",
       "      <td>175.0</td>\n",
       "    </tr>\n",
       "    <tr>\n",
       "      <th>Calories</th>\n",
       "      <td>30.0</td>\n",
       "      <td>304.6800</td>\n",
       "      <td>66.003779</td>\n",
       "      <td>195.1</td>\n",
       "      <td>250.7</td>\n",
       "      <td>291.2</td>\n",
       "      <td>343.975</td>\n",
       "      <td>479.0</td>\n",
       "    </tr>\n",
       "  </tbody>\n",
       "</table>\n",
       "</div>"
      ],
      "text/plain": [
       "          count      mean        std    min    25%    50%      75%    max\n",
       "Duration   32.0   68.4375  70.039591   30.0   60.0   60.0   60.000  450.0\n",
       "Pulse      32.0  103.5000   7.832933   90.0  100.0  102.5  106.500  130.0\n",
       "Maxpulse   32.0  128.5000  12.998759  101.0  120.0  127.5  132.250  175.0\n",
       "Calories   30.0  304.6800  66.003779  195.1  250.7  291.2  343.975  479.0"
      ]
     },
     "execution_count": 287,
     "metadata": {},
     "output_type": "execute_result"
    }
   ],
   "source": [
    "df.describe().T"
   ]
  },
  {
   "cell_type": "code",
   "execution_count": 290,
   "metadata": {},
   "outputs": [
    {
     "name": "stdout",
     "output_type": "stream",
     "text": [
      "<class 'pandas.core.frame.DataFrame'>\n",
      "Int64Index: 29 entries, 0 to 31\n",
      "Data columns (total 5 columns):\n",
      " #   Column    Non-Null Count  Dtype  \n",
      "---  ------    --------------  -----  \n",
      " 0   Duration  29 non-null     int64  \n",
      " 1   Date      29 non-null     object \n",
      " 2   Pulse     29 non-null     int64  \n",
      " 3   Maxpulse  29 non-null     int64  \n",
      " 4   Calories  29 non-null     float64\n",
      "dtypes: float64(1), int64(3), object(1)\n",
      "memory usage: 1.4+ KB\n"
     ]
    }
   ],
   "source": [
    "# dropping NA\n",
    "df = df.dropna()\n",
    "df.info()"
   ]
  },
  {
   "cell_type": "code",
   "execution_count": 291,
   "metadata": {},
   "outputs": [
    {
     "data": {
      "text/html": [
       "<div>\n",
       "<style scoped>\n",
       "    .dataframe tbody tr th:only-of-type {\n",
       "        vertical-align: middle;\n",
       "    }\n",
       "\n",
       "    .dataframe tbody tr th {\n",
       "        vertical-align: top;\n",
       "    }\n",
       "\n",
       "    .dataframe thead th {\n",
       "        text-align: right;\n",
       "    }\n",
       "</style>\n",
       "<table border=\"1\" class=\"dataframe\">\n",
       "  <thead>\n",
       "    <tr style=\"text-align: right;\">\n",
       "      <th></th>\n",
       "      <th>Duration</th>\n",
       "      <th>Date</th>\n",
       "      <th>Pulse</th>\n",
       "      <th>Maxpulse</th>\n",
       "      <th>Calories</th>\n",
       "    </tr>\n",
       "  </thead>\n",
       "  <tbody>\n",
       "    <tr>\n",
       "      <th>0</th>\n",
       "      <td>60</td>\n",
       "      <td>2020-12-01</td>\n",
       "      <td>110</td>\n",
       "      <td>130</td>\n",
       "      <td>409.1</td>\n",
       "    </tr>\n",
       "    <tr>\n",
       "      <th>1</th>\n",
       "      <td>60</td>\n",
       "      <td>2020-12-02</td>\n",
       "      <td>117</td>\n",
       "      <td>145</td>\n",
       "      <td>479.0</td>\n",
       "    </tr>\n",
       "    <tr>\n",
       "      <th>2</th>\n",
       "      <td>60</td>\n",
       "      <td>2020-12-03</td>\n",
       "      <td>103</td>\n",
       "      <td>135</td>\n",
       "      <td>340.0</td>\n",
       "    </tr>\n",
       "    <tr>\n",
       "      <th>3</th>\n",
       "      <td>45</td>\n",
       "      <td>2020-12-04</td>\n",
       "      <td>109</td>\n",
       "      <td>175</td>\n",
       "      <td>282.4</td>\n",
       "    </tr>\n",
       "    <tr>\n",
       "      <th>4</th>\n",
       "      <td>45</td>\n",
       "      <td>2020-12-05</td>\n",
       "      <td>117</td>\n",
       "      <td>148</td>\n",
       "      <td>406.0</td>\n",
       "    </tr>\n",
       "    <tr>\n",
       "      <th>5</th>\n",
       "      <td>60</td>\n",
       "      <td>2020-12-06</td>\n",
       "      <td>102</td>\n",
       "      <td>127</td>\n",
       "      <td>300.0</td>\n",
       "    </tr>\n",
       "    <tr>\n",
       "      <th>6</th>\n",
       "      <td>60</td>\n",
       "      <td>2020-12-07</td>\n",
       "      <td>110</td>\n",
       "      <td>136</td>\n",
       "      <td>374.0</td>\n",
       "    </tr>\n",
       "    <tr>\n",
       "      <th>7</th>\n",
       "      <td>450</td>\n",
       "      <td>2020-12-08</td>\n",
       "      <td>104</td>\n",
       "      <td>134</td>\n",
       "      <td>253.3</td>\n",
       "    </tr>\n",
       "    <tr>\n",
       "      <th>8</th>\n",
       "      <td>30</td>\n",
       "      <td>2020-12-09</td>\n",
       "      <td>109</td>\n",
       "      <td>133</td>\n",
       "      <td>195.1</td>\n",
       "    </tr>\n",
       "    <tr>\n",
       "      <th>9</th>\n",
       "      <td>60</td>\n",
       "      <td>2020-12-10</td>\n",
       "      <td>98</td>\n",
       "      <td>124</td>\n",
       "      <td>269.0</td>\n",
       "    </tr>\n",
       "    <tr>\n",
       "      <th>10</th>\n",
       "      <td>60</td>\n",
       "      <td>2020-12-11</td>\n",
       "      <td>103</td>\n",
       "      <td>147</td>\n",
       "      <td>329.3</td>\n",
       "    </tr>\n",
       "    <tr>\n",
       "      <th>11</th>\n",
       "      <td>60</td>\n",
       "      <td>2020-12-12</td>\n",
       "      <td>100</td>\n",
       "      <td>120</td>\n",
       "      <td>250.7</td>\n",
       "    </tr>\n",
       "    <tr>\n",
       "      <th>12</th>\n",
       "      <td>60</td>\n",
       "      <td>2020-12-12</td>\n",
       "      <td>100</td>\n",
       "      <td>120</td>\n",
       "      <td>250.7</td>\n",
       "    </tr>\n",
       "    <tr>\n",
       "      <th>13</th>\n",
       "      <td>60</td>\n",
       "      <td>2020-12-13</td>\n",
       "      <td>106</td>\n",
       "      <td>128</td>\n",
       "      <td>345.3</td>\n",
       "    </tr>\n",
       "    <tr>\n",
       "      <th>14</th>\n",
       "      <td>60</td>\n",
       "      <td>2020-12-14</td>\n",
       "      <td>104</td>\n",
       "      <td>132</td>\n",
       "      <td>379.3</td>\n",
       "    </tr>\n",
       "    <tr>\n",
       "      <th>15</th>\n",
       "      <td>60</td>\n",
       "      <td>2020-12-15</td>\n",
       "      <td>98</td>\n",
       "      <td>123</td>\n",
       "      <td>275.0</td>\n",
       "    </tr>\n",
       "    <tr>\n",
       "      <th>16</th>\n",
       "      <td>60</td>\n",
       "      <td>2020-12-16</td>\n",
       "      <td>98</td>\n",
       "      <td>120</td>\n",
       "      <td>215.2</td>\n",
       "    </tr>\n",
       "    <tr>\n",
       "      <th>17</th>\n",
       "      <td>60</td>\n",
       "      <td>2020-12-17</td>\n",
       "      <td>100</td>\n",
       "      <td>120</td>\n",
       "      <td>300.0</td>\n",
       "    </tr>\n",
       "    <tr>\n",
       "      <th>19</th>\n",
       "      <td>60</td>\n",
       "      <td>2020-12-19</td>\n",
       "      <td>103</td>\n",
       "      <td>123</td>\n",
       "      <td>323.0</td>\n",
       "    </tr>\n",
       "    <tr>\n",
       "      <th>20</th>\n",
       "      <td>45</td>\n",
       "      <td>2020-12-20</td>\n",
       "      <td>97</td>\n",
       "      <td>125</td>\n",
       "      <td>243.0</td>\n",
       "    </tr>\n",
       "    <tr>\n",
       "      <th>21</th>\n",
       "      <td>60</td>\n",
       "      <td>2020-12-21</td>\n",
       "      <td>108</td>\n",
       "      <td>131</td>\n",
       "      <td>364.2</td>\n",
       "    </tr>\n",
       "    <tr>\n",
       "      <th>23</th>\n",
       "      <td>60</td>\n",
       "      <td>2020-12-23</td>\n",
       "      <td>130</td>\n",
       "      <td>101</td>\n",
       "      <td>300.0</td>\n",
       "    </tr>\n",
       "    <tr>\n",
       "      <th>24</th>\n",
       "      <td>45</td>\n",
       "      <td>2020-12-24</td>\n",
       "      <td>105</td>\n",
       "      <td>132</td>\n",
       "      <td>246.0</td>\n",
       "    </tr>\n",
       "    <tr>\n",
       "      <th>25</th>\n",
       "      <td>60</td>\n",
       "      <td>2020-12-25</td>\n",
       "      <td>102</td>\n",
       "      <td>126</td>\n",
       "      <td>334.5</td>\n",
       "    </tr>\n",
       "    <tr>\n",
       "      <th>26</th>\n",
       "      <td>60</td>\n",
       "      <td>2020-12-26</td>\n",
       "      <td>100</td>\n",
       "      <td>120</td>\n",
       "      <td>250.0</td>\n",
       "    </tr>\n",
       "    <tr>\n",
       "      <th>27</th>\n",
       "      <td>60</td>\n",
       "      <td>2020-12-27</td>\n",
       "      <td>92</td>\n",
       "      <td>118</td>\n",
       "      <td>241.0</td>\n",
       "    </tr>\n",
       "    <tr>\n",
       "      <th>29</th>\n",
       "      <td>60</td>\n",
       "      <td>2020-12-29</td>\n",
       "      <td>100</td>\n",
       "      <td>132</td>\n",
       "      <td>280.0</td>\n",
       "    </tr>\n",
       "    <tr>\n",
       "      <th>30</th>\n",
       "      <td>60</td>\n",
       "      <td>2020-12-30</td>\n",
       "      <td>102</td>\n",
       "      <td>129</td>\n",
       "      <td>380.3</td>\n",
       "    </tr>\n",
       "    <tr>\n",
       "      <th>31</th>\n",
       "      <td>60</td>\n",
       "      <td>2020-12-31</td>\n",
       "      <td>92</td>\n",
       "      <td>115</td>\n",
       "      <td>243.0</td>\n",
       "    </tr>\n",
       "  </tbody>\n",
       "</table>\n",
       "</div>"
      ],
      "text/plain": [
       "    Duration       Date  Pulse  Maxpulse  Calories\n",
       "0         60 2020-12-01    110       130     409.1\n",
       "1         60 2020-12-02    117       145     479.0\n",
       "2         60 2020-12-03    103       135     340.0\n",
       "3         45 2020-12-04    109       175     282.4\n",
       "4         45 2020-12-05    117       148     406.0\n",
       "5         60 2020-12-06    102       127     300.0\n",
       "6         60 2020-12-07    110       136     374.0\n",
       "7        450 2020-12-08    104       134     253.3\n",
       "8         30 2020-12-09    109       133     195.1\n",
       "9         60 2020-12-10     98       124     269.0\n",
       "10        60 2020-12-11    103       147     329.3\n",
       "11        60 2020-12-12    100       120     250.7\n",
       "12        60 2020-12-12    100       120     250.7\n",
       "13        60 2020-12-13    106       128     345.3\n",
       "14        60 2020-12-14    104       132     379.3\n",
       "15        60 2020-12-15     98       123     275.0\n",
       "16        60 2020-12-16     98       120     215.2\n",
       "17        60 2020-12-17    100       120     300.0\n",
       "19        60 2020-12-19    103       123     323.0\n",
       "20        45 2020-12-20     97       125     243.0\n",
       "21        60 2020-12-21    108       131     364.2\n",
       "23        60 2020-12-23    130       101     300.0\n",
       "24        45 2020-12-24    105       132     246.0\n",
       "25        60 2020-12-25    102       126     334.5\n",
       "26        60 2020-12-26    100       120     250.0\n",
       "27        60 2020-12-27     92       118     241.0\n",
       "29        60 2020-12-29    100       132     280.0\n",
       "30        60 2020-12-30    102       129     380.3\n",
       "31        60 2020-12-31     92       115     243.0"
      ]
     },
     "execution_count": 291,
     "metadata": {},
     "output_type": "execute_result"
    }
   ],
   "source": [
    "df.Date = pd.to_datetime(df.Date)\n",
    "df"
   ]
  },
  {
   "cell_type": "code",
   "execution_count": 292,
   "metadata": {},
   "outputs": [
    {
     "data": {
      "text/plain": [
       "0     False\n",
       "1     False\n",
       "2     False\n",
       "3     False\n",
       "4     False\n",
       "5     False\n",
       "6     False\n",
       "7     False\n",
       "8     False\n",
       "9     False\n",
       "10    False\n",
       "11    False\n",
       "12     True\n",
       "13    False\n",
       "14    False\n",
       "15    False\n",
       "16    False\n",
       "17    False\n",
       "19    False\n",
       "20    False\n",
       "21    False\n",
       "23    False\n",
       "24    False\n",
       "25    False\n",
       "26    False\n",
       "27    False\n",
       "29    False\n",
       "30    False\n",
       "31    False\n",
       "dtype: bool"
      ]
     },
     "execution_count": 292,
     "metadata": {},
     "output_type": "execute_result"
    }
   ],
   "source": [
    "df.duplicated()"
   ]
  },
  {
   "cell_type": "code",
   "execution_count": 293,
   "metadata": {},
   "outputs": [],
   "source": [
    "df.drop_duplicates(inplace=True)"
   ]
  },
  {
   "cell_type": "code",
   "execution_count": 294,
   "metadata": {},
   "outputs": [
    {
     "data": {
      "text/plain": [
       "0     False\n",
       "1     False\n",
       "2     False\n",
       "3     False\n",
       "4     False\n",
       "5     False\n",
       "6     False\n",
       "7     False\n",
       "8     False\n",
       "9     False\n",
       "10    False\n",
       "11    False\n",
       "13    False\n",
       "14    False\n",
       "15    False\n",
       "16    False\n",
       "17    False\n",
       "19    False\n",
       "20    False\n",
       "21    False\n",
       "23    False\n",
       "24    False\n",
       "25    False\n",
       "26    False\n",
       "27    False\n",
       "29    False\n",
       "30    False\n",
       "31    False\n",
       "dtype: bool"
      ]
     },
     "execution_count": 294,
     "metadata": {},
     "output_type": "execute_result"
    }
   ],
   "source": [
    "df.duplicated()"
   ]
  },
  {
   "cell_type": "code",
   "execution_count": 295,
   "metadata": {},
   "outputs": [
    {
     "data": {
      "text/html": [
       "<div>\n",
       "<style scoped>\n",
       "    .dataframe tbody tr th:only-of-type {\n",
       "        vertical-align: middle;\n",
       "    }\n",
       "\n",
       "    .dataframe tbody tr th {\n",
       "        vertical-align: top;\n",
       "    }\n",
       "\n",
       "    .dataframe thead th {\n",
       "        text-align: right;\n",
       "    }\n",
       "</style>\n",
       "<table border=\"1\" class=\"dataframe\">\n",
       "  <thead>\n",
       "    <tr style=\"text-align: right;\">\n",
       "      <th></th>\n",
       "      <th>Duration</th>\n",
       "      <th>Pulse</th>\n",
       "      <th>Maxpulse</th>\n",
       "      <th>Calories</th>\n",
       "    </tr>\n",
       "  </thead>\n",
       "  <tbody>\n",
       "    <tr>\n",
       "      <th>Duration</th>\n",
       "      <td>1.000000</td>\n",
       "      <td>-0.025460</td>\n",
       "      <td>0.025693</td>\n",
       "      <td>-0.124673</td>\n",
       "    </tr>\n",
       "    <tr>\n",
       "      <th>Pulse</th>\n",
       "      <td>-0.025460</td>\n",
       "      <td>1.000000</td>\n",
       "      <td>0.200177</td>\n",
       "      <td>0.503243</td>\n",
       "    </tr>\n",
       "    <tr>\n",
       "      <th>Maxpulse</th>\n",
       "      <td>0.025693</td>\n",
       "      <td>0.200177</td>\n",
       "      <td>1.000000</td>\n",
       "      <td>0.338515</td>\n",
       "    </tr>\n",
       "    <tr>\n",
       "      <th>Calories</th>\n",
       "      <td>-0.124673</td>\n",
       "      <td>0.503243</td>\n",
       "      <td>0.338515</td>\n",
       "      <td>1.000000</td>\n",
       "    </tr>\n",
       "  </tbody>\n",
       "</table>\n",
       "</div>"
      ],
      "text/plain": [
       "          Duration     Pulse  Maxpulse  Calories\n",
       "Duration  1.000000 -0.025460  0.025693 -0.124673\n",
       "Pulse    -0.025460  1.000000  0.200177  0.503243\n",
       "Maxpulse  0.025693  0.200177  1.000000  0.338515\n",
       "Calories -0.124673  0.503243  0.338515  1.000000"
      ]
     },
     "execution_count": 295,
     "metadata": {},
     "output_type": "execute_result"
    }
   ],
   "source": [
    "df.corr()"
   ]
  },
  {
   "cell_type": "code",
   "execution_count": 298,
   "metadata": {},
   "outputs": [
    {
     "data": {
      "text/plain": [
       "<AxesSubplot:>"
      ]
     },
     "execution_count": 298,
     "metadata": {},
     "output_type": "execute_result"
    },
    {
     "data": {
      "image/png": "[encoded data removed]",
      "text/plain": [
       "<Figure size 720x720 with 2 Axes>"
      ]
     },
     "metadata": {},
     "output_type": "display_data"
    }
   ],
   "source": [
    "plt.figure(figsize=(10,10))\n",
    "sns.heatmap(df.corr(),annot=True)"
   ]
  },
  {
   "cell_type": "code",
   "execution_count": null,
   "metadata": {},
   "outputs": [],
   "source": []
  }
 ],
 "metadata": {
  "interpreter": {
   "hash": "3daebeccdd9cd1a93dd3a0409143cb3d5cdfa71824175fab59b5b40670e3b5fe"
  },
  "kernelspec": {
   "display_name": "Python 3.10.0 64-bit",
   "language": "python",
   "name": "python3"
  },
  "language_info": {
   "codemirror_mode": {
    "name": "ipython",
    "version": 3
   },
   "file_extension": ".py",
   "mimetype": "text/x-python",
   "name": "python",
   "nbconvert_exporter": "python",
   "pygments_lexer": "ipython3",
   "version": "3.10.0"
  },
  "orig_nbformat": 4
 },
 "nbformat": 4,
 "nbformat_minor": 2
}
